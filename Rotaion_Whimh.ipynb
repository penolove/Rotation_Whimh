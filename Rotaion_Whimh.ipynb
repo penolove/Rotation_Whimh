{
 "cells": [
  {
   "cell_type": "markdown",
   "metadata": {},
   "source": [
    "# [sec 0-0] import data "
   ]
  },
  {
   "cell_type": "code",
   "execution_count": null,
   "metadata": {
    "collapsed": false
   },
   "outputs": [],
   "source": [
    "import numpy as np"
   ]
  },
  {
   "cell_type": "code",
   "execution_count": null,
   "metadata": {
    "collapsed": false
   },
   "outputs": [],
   "source": [
    "frames=np.load(\"../../../whimh2.0/outfile_x.npy\")\n",
    "y_train=np.load(\"../../../whimh2.0/outfile_y.npy\").astype(int)"
   ]
  },
  {
   "cell_type": "code",
   "execution_count": null,
   "metadata": {
    "collapsed": false
   },
   "outputs": [],
   "source": [
    "print (y_train==0).sum() \n",
    "print (y_train==1).sum()\n",
    "print (y_train==2).sum()\n",
    "print (y_train==3).sum()\n",
    "print (y_train==4).sum()"
   ]
  },
  {
   "cell_type": "code",
   "execution_count": null,
   "metadata": {
    "collapsed": false
   },
   "outputs": [],
   "source": [
    "frames[np.where(y_train==1)].shape"
   ]
  },
  {
   "cell_type": "code",
   "execution_count": null,
   "metadata": {
    "collapsed": false
   },
   "outputs": [],
   "source": [
    "arrMH=np.where(y_train==0)[0]\n",
    "arrNM=np.where(y_train==1)[0]\n",
    "arrNH=np.where(y_train==2)[0]\n",
    "arrME=np.where(y_train==3)[0]\n",
    "arrSO=np.where(y_train==4)[0]\n",
    "\n",
    "max_=len(arrNM)\n",
    "indx=np.random.randint(max_, size=1000)\n",
    "\n",
    "newarr=np.concatenate((arrMH,arrNM[indx],arrNH,arrME,arrSO))"
   ]
  },
  {
   "cell_type": "code",
   "execution_count": null,
   "metadata": {
    "collapsed": false
   },
   "outputs": [],
   "source": [
    "# print images shapes\n",
    "print newarr.shape"
   ]
  },
  {
   "cell_type": "code",
   "execution_count": null,
   "metadata": {
    "collapsed": true
   },
   "outputs": [],
   "source": [
    "frames=frames[newarr]\n",
    "y_train=y_train[newarr]"
   ]
  },
  {
   "cell_type": "markdown",
   "metadata": {},
   "source": [
    "# [sec 0-1]  vgg16 forward"
   ]
  },
  {
   "cell_type": "code",
   "execution_count": null,
   "metadata": {
    "collapsed": true
   },
   "outputs": [],
   "source": [
    "import tensorflow as tf"
   ]
  },
  {
   "cell_type": "code",
   "execution_count": null,
   "metadata": {
    "collapsed": false
   },
   "outputs": [],
   "source": [
    "#The only difference with a regular Session is that an InteractiveSession installs itself as the default session \n",
    "sess = tf.InteractiveSession()\n",
    "\n",
    "#load the graph_def from disk\n",
    "with open(\"../../../whimh2.0/vggface16.tfmodel\", mode='rb') as f:\n",
    "    fileContent = f.read()\n",
    "graph_def = tf.GraphDef()\n",
    "graph_def.ParseFromString(fileContent)"
   ]
  },
  {
   "cell_type": "code",
   "execution_count": null,
   "metadata": {
    "collapsed": false
   },
   "outputs": [],
   "source": [
    "# import the vgg \n",
    "x_tf = tf.placeholder(tf.float32, shape=[None, 32,32,3],name='imput_image')\n",
    "x_tf_1=tf.image.resize_images(x_tf,[224,224])\n",
    "y_tf = tf.placeholder(tf.int32, shape=[None,],name='ground_truth')\n",
    "tf.import_graph_def(graph_def, input_map={ \"images\": x_tf_1 })\n",
    "print \"graph loaded into default graph\"\n",
    "\n",
    "graph = tf.get_default_graph()"
   ]
  },
  {
   "cell_type": "code",
   "execution_count": null,
   "metadata": {
    "collapsed": false
   },
   "outputs": [],
   "source": [
    "feature_net=graph.get_tensor_by_name(\"import/pool5:0\")\n",
    "feature_x1 = sess.run([feature_net], feed_dict={x_tf:frames[:100], y_tf: y_train[:100]})[0]\n",
    "print feature_x1.shape"
   ]
  },
  {
   "cell_type": "markdown",
   "metadata": {},
   "source": [
    "# [sec 0-2]  train a classifier first , cnn without rotate,stn ~0.97"
   ]
  },
  {
   "cell_type": "code",
   "execution_count": null,
   "metadata": {
    "collapsed": true
   },
   "outputs": [],
   "source": [
    "def weight_variable(shape):\n",
    "  initial = tf.truncated_normal(shape, stddev=0.0001)\n",
    "  return tf.Variable(initial)\n",
    "\n",
    "def bias_variable(shape):\n",
    "  initial = tf.constant(0.01, shape=shape)\n",
    "  return tf.Variable(initial)\n"
   ]
  },
  {
   "cell_type": "code",
   "execution_count": null,
   "metadata": {
    "collapsed": false
   },
   "outputs": [],
   "source": [
    "keep_prob = tf.placeholder(tf.float32,name='KP')\n",
    "regular_lambda = tf.placeholder(tf.float32,name='RL')\n",
    "learning_rate = tf.placeholder(tf.float32,name='LR')\n",
    "with tf.name_scope('fintune_whimh'):\n",
    "    with tf.name_scope('finetune_layer'):\n",
    "        #calculate_entropy\n",
    "        #h_pool3_flat = tf.reshape(x_tfed, [-1, 2*2*512])\n",
    "        h_pool3_flat = tf.reshape(feature_net, [-1, 7*7*512])\n",
    "\n",
    "        W_whimh_fc1 = weight_variable([7*7*512,1024])\n",
    "        #W_whimh_fc1 = weight_variable([2*2*512, 1024])\n",
    "        b_whimh_fc1 = bias_variable([1024])\n",
    "        h_fc1=tf.nn.relu(tf.matmul(h_pool3_flat, W_whimh_fc1) + b_whimh_fc1) \n",
    "        h_fc1_drop = tf.nn.dropout(h_fc1, keep_prob,name='keep_prob')\n",
    "\n",
    "        tf.summary.histogram('fc_1/weights', W_whimh_fc1)\n",
    "    with tf.name_scope('finetune_layer'):\n",
    "        #calculate_entropy\n",
    "        W_whimh_fc2 = weight_variable([1024, 5])\n",
    "        b_whimh_fc2 = bias_variable([5])\n",
    "        y_conv=tf.nn.softmax(tf.matmul(h_fc1_drop, W_whimh_fc2) + b_whimh_fc2, name='predictions_softmax') \n",
    "        tf.summary.histogram('fc_2/weights', W_whimh_fc2)\n",
    "    y_tf_2=tf.one_hot(y_tf,5)\n",
    "    with tf.name_scope('loss_calulate'):\n",
    "        #calculate_entropy\n",
    "        cross_entropy = tf.reduce_mean(-tf.reduce_sum(y_tf_2 * tf.log(y_conv), reduction_indices=[1]))\n",
    "    with tf.name_scope('regular'):    \n",
    "        regularizers = (tf.nn.l2_loss(W_whimh_fc1) + tf.nn.l2_loss(b_whimh_fc1)+\n",
    "                        (tf.nn.l2_loss(W_whimh_fc2) + tf.nn.l2_loss(b_whimh_fc2))\n",
    "                       )\n",
    "\n",
    "    with tf.name_scope('loss'):\n",
    "        #carefully deal overfitting\n",
    "        loss=cross_entropy+regular_lambda*regularizers\n",
    "    with tf.name_scope('slover'):\n",
    "        global_step = tf.Variable(0, trainable=False)\n",
    "        learning_rate_decay = tf.train.exponential_decay(learning_rate, global_step,\n",
    "                                                   1000, 0.96, staircase=True)\n",
    "    # %% Define loss/eval/training functions\n",
    "        opt = tf.train.AdamOptimizer(learning_rate=learning_rate)\n",
    "        train_step = opt.minimize(loss)\n",
    "\n",
    "    with tf.name_scope('measure'):\n",
    "        with tf.name_scope('predict'):\n",
    "            predctions=tf.argmax(y_conv,1, name='predictions_')\n",
    "        with tf.name_scope('groundtruth'):\n",
    "            ground_truth=tf.argmax(y_tf_2,1)\n",
    "        correct_prediction = tf.equal(predctions, ground_truth)\n",
    "        accuracy = tf.reduce_mean(tf.cast(correct_prediction, tf.float32))"
   ]
  },
  {
   "cell_type": "code",
   "execution_count": null,
   "metadata": {
    "collapsed": false
   },
   "outputs": [],
   "source": [
    "arr = np.arange(len(frames))\n",
    "np.random.shuffle(arr)\n",
    "x_train=frames[arr]\n",
    "y_train=y_train[arr]\n",
    "data={\n",
    "  'X_train': x_train[:int(len(x_train)*0.8)],\n",
    "  'y_train': y_train[:int(len(x_train)*0.8)],\n",
    "  'X_val': x_train[int(len(x_train)*0.8):],\n",
    "  'y_val': y_train[int(len(x_train)*0.8):],\n",
    "  'X_val_frame' : frames[int(len(x_train)*0.8):],\n",
    "}\n",
    "print \"there are \"+ str(data['X_train'].shape[0]) + \" images in training set\"\n",
    "print \"there are \"+ str(data['X_val'].shape[0]) + \" images in testing set\""
   ]
  },
  {
   "cell_type": "code",
   "execution_count": null,
   "metadata": {
    "collapsed": true
   },
   "outputs": [],
   "source": [
    "sess.run(tf.global_variables_initializer())"
   ]
  },
  {
   "cell_type": "code",
   "execution_count": null,
   "metadata": {
    "collapsed": false
   },
   "outputs": [],
   "source": [
    "k=0\n",
    "for i in range(3000):\n",
    "  arr=np.arange(len(data['X_train']))\n",
    "  np.random.shuffle(arr)\n",
    "  idx = arr[:5]\n",
    "  train_step.run(feed_dict={x_tf:data['X_train'][idx], y_tf: data['y_train'][idx],\n",
    "                            keep_prob:0.5,\n",
    "                            regular_lambda:0.001,\n",
    "                            learning_rate:1e-6\n",
    "                           })\n",
    "  if i%200==0:\n",
    "    ############training acc###########\n",
    "    #train_accuracy = accuracy.eval(feed_dict={   \n",
    "    #x_tf:data['X_train'], y_tf: data['y_train'], keep_prob: 1.0})\n",
    "    arr=np.arange(len(data['X_train']))\n",
    "    np.random.shuffle(arr)\n",
    "    idx_train = arr[:100]\n",
    "    train_accuracy,train_cross_entropy = sess.run([accuracy,cross_entropy], feed_dict={   \n",
    "            x_tf:data['X_train'][idx_train], y_tf: data['y_train'][idx_train],\n",
    "            keep_prob:1,\n",
    "            regular_lambda:0.001,\n",
    "            learning_rate:1e-6\n",
    "        })\n",
    "    #print train_accuracy\n",
    "    ############testing acc#########\n",
    "    arr=np.arange(len(data['X_val']))\n",
    "    np.random.shuffle(arr)\n",
    "    idx_test = arr[:100]\n",
    "    testing_accuracy,test_cross_entropy = sess.run([accuracy,cross_entropy], feed_dict={   \n",
    "            x_tf:data['X_val'][idx_test], y_tf: data['y_val'][idx_test],\n",
    "            keep_prob:1,\n",
    "            regular_lambda:0.001,\n",
    "            learning_rate:1e-6})\n",
    "    print(\"step %d, training accuracy %g, testing acc %g\"%(i, train_accuracy,testing_accuracy))\n",
    "    \n"
   ]
  },
  {
   "cell_type": "code",
   "execution_count": null,
   "metadata": {
    "collapsed": true
   },
   "outputs": [],
   "source": [
    "train_writer = tf.summary.FileWriter('/tmp/loser1/train',sess.graph)"
   ]
  },
  {
   "cell_type": "code",
   "execution_count": null,
   "metadata": {
    "collapsed": false
   },
   "outputs": [],
   "source": [
    "! ls"
   ]
  },
  {
   "cell_type": "code",
   "execution_count": null,
   "metadata": {
    "collapsed": false
   },
   "outputs": [],
   "source": [
    "saver = tf.train.Saver()\n",
    "saver.save(sess, 'chkpt', global_step=0, latest_filename='chkpt_state')\n",
    "tf.train.write_graph(sess.graph.as_graph_def(),\"/home/stream/Documents/Rotation_Whimh/models/transformer\", 'pretensorWhimh.pb', False)"
   ]
  },
  {
   "cell_type": "code",
   "execution_count": null,
   "metadata": {
    "collapsed": false
   },
   "outputs": [],
   "source": [
    "# freeze the graph\n",
    "from freeze_graph import freeze_graph \n",
    "input_saver_def_path = ''\n",
    "input_binary=True\n",
    "input_checkpoint_path = './chkpt-0'\n",
    "input_graph_path = 'pretensorWhimh.pb'\n",
    "output_graph_path = 'pretensorWhimh.pb'\n",
    "output_node_names = 'fintune_whimh/measure/predict/predictions_'\n",
    "restore_op_name = \"save/restore_all\"\n",
    "filename_tensor_name = \"save/Const:0\"\n",
    "clear_devices = True\n",
    "\n",
    "freeze_graph(input_graph_path, input_saver_def_path,\n",
    "                              input_binary, input_checkpoint_path,\n",
    "                              output_node_names, restore_op_name,\n",
    "                              filename_tensor_name, output_graph_path,\n",
    "                              clear_devices, \"\")"
   ]
  },
  {
   "cell_type": "markdown",
   "metadata": {},
   "source": [
    "it seems can reach high accuracy easily , \n",
    "# [sec0-3] let's rotate~~!! cnn without stn ~0.93"
   ]
  },
  {
   "cell_type": "code",
   "execution_count": null,
   "metadata": {
    "collapsed": true
   },
   "outputs": [],
   "source": [
    "import matplotlib.pyplot as plt\n",
    "import cv2\n",
    "%matplotlib inline"
   ]
  },
  {
   "cell_type": "code",
   "execution_count": null,
   "metadata": {
    "collapsed": false
   },
   "outputs": [],
   "source": [
    "data['X_val'][0].shape"
   ]
  },
  {
   "cell_type": "code",
   "execution_count": null,
   "metadata": {
    "collapsed": false
   },
   "outputs": [],
   "source": [
    "\n",
    "img=data['X_val'][0].astype(np.uint8)\n",
    "plt.imshow(img)\n"
   ]
  },
  {
   "cell_type": "code",
   "execution_count": null,
   "metadata": {
    "collapsed": true
   },
   "outputs": [],
   "source": [
    "def getrotation_img(image,angel):\n",
    "    rows,cols,c = image.shape\n",
    "    M = cv2.getRotationMatrix2D((cols/2,rows/2),angel,1)\n",
    "    dst = cv2.warpAffine(image,M,(cols,rows))\n",
    "    return dst\n"
   ]
  },
  {
   "cell_type": "code",
   "execution_count": null,
   "metadata": {
    "collapsed": false
   },
   "outputs": [],
   "source": [
    "# rotation!!!\n",
    "plt.imshow(getrotation_img(img,45))\n",
    "print getrotation_img(img,45).shape"
   ]
  },
  {
   "cell_type": "code",
   "execution_count": null,
   "metadata": {
    "collapsed": true
   },
   "outputs": [],
   "source": [
    "import random\n",
    "def rotation_all(X_train,angle):\n",
    "    for i in xrange(X_train.shape[0]):\n",
    "        angle+=random.randint(-22 ,22)\n",
    "        if i==0:\n",
    "            X_train_temp=np.reshape(getrotation_img(X_train[i],angle),[-1,32,32,3])\n",
    "        else:\n",
    "            temp=np.reshape(getrotation_img(X_train[i],angle),[-1,32,32,3])\n",
    "            X_train_temp=np.concatenate((X_train_temp, temp), axis=0)\n",
    "    print \"the rotation output : \"+str(X_train_temp.shape)\n",
    "    return X_train_temp"
   ]
  },
  {
   "cell_type": "code",
   "execution_count": null,
   "metadata": {
    "collapsed": false
   },
   "outputs": [],
   "source": [
    "temp=rotation_all(frames,0)\n",
    "#temp[0].shape\n",
    "#plt.imshow(temp[30].astype(np.uint8))"
   ]
  },
  {
   "cell_type": "code",
   "execution_count": null,
   "metadata": {
    "collapsed": false
   },
   "outputs": [],
   "source": [
    "# training set\n",
    "X_train=frames\n",
    "X_train_0=rotation_all(frames,0)\n",
    "X_train_0_1=rotation_all(frames,0)\n",
    "X_train_45=rotation_all(frames,45)\n",
    "X_train_45_1=rotation_all(frames,45)\n",
    "X_train_90=rotation_all(frames,90)\n",
    "X_train_90_1=rotation_all(frames,90)\n",
    "X_train_135=rotation_all(frames,135)\n",
    "X_train_135_1=rotation_all(frames,135)\n",
    "X_train_180=rotation_all(frames,180)\n",
    "X_train_180_1=rotation_all(frames,180)\n",
    "X_train_180_2=rotation_all(frames,180)\n",
    "X_train_225=rotation_all(frames,225)\n",
    "X_train_225_1=rotation_all(frames,225)\n",
    "X_train_270_1=rotation_all(frames,270)\n",
    "X_train_270=rotation_all(frames,270)\n",
    "X_train_315_1=rotation_all(frames,315)\n",
    "X_train_315=rotation_all(frames,315)\n"
   ]
  },
  {
   "cell_type": "code",
   "execution_count": null,
   "metadata": {
    "collapsed": false
   },
   "outputs": [],
   "source": [
    "frames=np.concatenate((X_train,X_train_0,X_train_0_1,X_train_45,X_train_45_1,X_train_90,X_train_90_1,\\\n",
    "                       X_train_135,X_train_180,X_train_225,X_train_135_1,X_train_180_1,X_train_180_2\n",
    "                       ,X_train_225_1,X_train_270,X_train_315,X_train_270_1,X_train_315_1),axis=0)\n",
    "print frames.shape\n",
    "\n",
    "y_train=np.concatenate((y_train,y_train,y_train,y_train,y_train,y_train,\\\n",
    "                        y_train,y_train,y_train,y_train,y_train,y_train,\\\n",
    "                       y_train,y_train,y_train,y_train,y_train,y_train),axis=0)\n",
    "print y_train.shape"
   ]
  },
  {
   "cell_type": "code",
   "execution_count": null,
   "metadata": {
    "collapsed": true
   },
   "outputs": [],
   "source": [
    "np.save(\"rotated_x\",frames)\n",
    "np.save(\"rotated_y\",y_train)\n"
   ]
  },
  {
   "cell_type": "code",
   "execution_count": null,
   "metadata": {
    "collapsed": false
   },
   "outputs": [],
   "source": [
    "!ls"
   ]
  },
  {
   "cell_type": "code",
   "execution_count": null,
   "metadata": {
    "collapsed": false
   },
   "outputs": [],
   "source": [
    "plt.imshow(frames[14500].astype(np.uint8))\n",
    "y_train[14500]"
   ]
  },
  {
   "cell_type": "code",
   "execution_count": null,
   "metadata": {
    "collapsed": false
   },
   "outputs": [],
   "source": [
    "arr = np.arange(len(frames))\n",
    "np.random.shuffle(arr)\n",
    "x_train=frames[arr]\n",
    "y_train=y_train[arr]\n",
    "data={\n",
    "  'X_train': x_train[:int(len(x_train)*0.8)],\n",
    "  'y_train': y_train[:int(len(x_train)*0.8)],\n",
    "  'X_val': x_train[int(len(x_train)*0.8):],\n",
    "  'y_val': y_train[int(len(x_train)*0.8):],\n",
    "  'X_val_frame' : frames[int(len(x_train)*0.8):],\n",
    "}\n",
    "print \"there are \"+ str(data['X_train'].shape[0]) + \" images in training set\"\n",
    "print \"there are \"+ str(data['X_val'].shape[0]) + \" images in testing set\""
   ]
  },
  {
   "cell_type": "code",
   "execution_count": null,
   "metadata": {
    "collapsed": true
   },
   "outputs": [],
   "source": [
    "# train the vgg model again"
   ]
  },
  {
   "cell_type": "code",
   "execution_count": null,
   "metadata": {
    "collapsed": true
   },
   "outputs": [],
   "source": [
    "sess.run(tf.global_variables_initializer())"
   ]
  },
  {
   "cell_type": "code",
   "execution_count": null,
   "metadata": {
    "collapsed": false,
    "scrolled": true
   },
   "outputs": [],
   "source": [
    "k=0\n",
    "for i in range(10000):\n",
    "  arr=np.arange(len(data['X_train']))\n",
    "  np.random.shuffle(arr)\n",
    "  idx = arr[:10]\n",
    "  train_step.run(feed_dict={x_tf:data['X_train'][idx], y_tf: data['y_train'][idx],keep_prob:0.25})\n",
    "  if i%200==0:\n",
    "    ############training acc###########\n",
    "    #train_accuracy = accuracy.eval(feed_dict={   \n",
    "    #x_tf:data['X_train'], y_tf: data['y_train'], keep_prob: 1.0})\n",
    "    idx_train=np.arange(len(data['X_train']))[:100]\n",
    "    train_accuracy,train_cross_entropy = sess.run([accuracy,cross_entropy], feed_dict={   \n",
    "            x_tf:data['X_train'][idx_train], y_tf: data['y_train'][idx_train],keep_prob:1})\n",
    "    #print train_accuracy\n",
    "    ############testing acc#########\n",
    "\n",
    "    idx_test=np.arange(len(data['X_train']))[:100]\n",
    "    testing_accuracy,test_cross_entropy = sess.run([accuracy,cross_entropy], feed_dict={   \n",
    "            x_tf:data['X_val'][idx_test], y_tf: data['y_val'][idx_test],keep_prob:1})\n",
    "    print(\"step %d, training accuracy %g, testing acc %g\"%(i, train_accuracy,testing_accuracy))\n",
    "    \n"
   ]
  },
  {
   "cell_type": "markdown",
   "metadata": {},
   "source": [
    "# [sec 1-0] add a stn , rock it ~0.97 accuracy\n",
    "issue 1 - stn almostly not updated - train with freezen graph\n",
    "issue 2 - seems freezen kill the gradient??"
   ]
  },
  {
   "cell_type": "code",
   "execution_count": null,
   "metadata": {
    "collapsed": true
   },
   "outputs": [],
   "source": [
    "from spatial_transformer import transformer\n",
    "import tensorflow as tf\n",
    "import numpy as np\n",
    "def weight_variable(shape):\n",
    "  initial = tf.truncated_normal(shape, stddev=0.0001)\n",
    "  return tf.Variable(initial)\n",
    "\n",
    "def bias_variable(shape):\n",
    "  initial = tf.constant(0.01, shape=shape)\n",
    "  return tf.Variable(initial)\n"
   ]
  },
  {
   "cell_type": "code",
   "execution_count": null,
   "metadata": {
    "collapsed": false
   },
   "outputs": [],
   "source": [
    "frames=np.load(\"rotated_x.npy\")\n",
    "y_train=np.load(\"rotated_y.npy\").astype(int)"
   ]
  },
  {
   "cell_type": "code",
   "execution_count": null,
   "metadata": {
    "collapsed": false
   },
   "outputs": [],
   "source": [
    "arr = np.arange(len(frames))\n",
    "np.random.shuffle(arr)\n",
    "x_train=frames[arr]\n",
    "y_train=y_train[arr]\n",
    "data={\n",
    "  'X_train': x_train[:int(len(x_train)*0.8)],\n",
    "  'y_train': y_train[:int(len(x_train)*0.8)],\n",
    "  'X_val': x_train[int(len(x_train)*0.8):],\n",
    "  'y_val': y_train[int(len(x_train)*0.8):],\n",
    "  'X_val_frame' : frames[int(len(x_train)*0.8):],\n",
    "}\n",
    "print \"there are \"+ str(data['X_train'].shape[0]) + \" images in training set\"\n",
    "print \"there are \"+ str(data['X_val'].shape[0]) + \" images in testing set\""
   ]
  },
  {
   "cell_type": "code",
   "execution_count": null,
   "metadata": {
    "collapsed": true
   },
   "outputs": [],
   "source": [
    "tf.reset_default_graph()"
   ]
  },
  {
   "cell_type": "code",
   "execution_count": null,
   "metadata": {
    "collapsed": true
   },
   "outputs": [],
   "source": [
    "def create_stn():\n",
    "    # %% We can add dropout for regularizing and to reduce overfitting like so:\n",
    "    keep_prob = tf.placeholder(tf.float32,name='KP')\n",
    "    regular_lambda = tf.placeholder(tf.float32,name='RL')\n",
    "    learning_rate = tf.placeholder(tf.float32,name='LR')\n",
    "\n",
    "    # %% Placeholders for 40x40 resolution\n",
    "    x = tf.placeholder(tf.float32, [None, 32,32,3])\n",
    "    x_tensor = tf.image.resize_images(x,[40,40])\n",
    "\n",
    "    filter_size = 3\n",
    "    n_filters_1 = 32\n",
    "    W_conv1_loc1 = weight_variable([filter_size, filter_size, 3, n_filters_1])\n",
    "    b_conv1_loc1 = bias_variable([n_filters_1])\n",
    "\n",
    "    W_fc_loc1 = weight_variable([1600, 20])\n",
    "    b_fc_loc1 = bias_variable([20])\n",
    "\n",
    "    #STN-conv_1-relu\n",
    "    h_conv1_loc1 = tf.nn.relu(\n",
    "        tf.nn.conv2d(input=x_tensor,\n",
    "                     filter=W_conv1_loc1,\n",
    "                     strides=[1, 2, 2, 1],\n",
    "                     padding='SAME') +\n",
    "        b_conv1_loc1)\n",
    "    h_conv1_loc1_drop = tf.nn.dropout(h_conv1_loc1, keep_prob)\n",
    "    h_conv1_loc1_flat = tf.reshape(h_conv1_loc1_drop, [-1, 20* 20 * n_filters_1])\n",
    "\n",
    "\n",
    "    #STN-FC-relu\n",
    "    n_fc_local=256\n",
    "    W_fc_loc1 = weight_variable([20* 20* n_filters_1, n_fc_local])\n",
    "    b_fc_loc1 = bias_variable([n_fc_local])\n",
    "    h_fc_loc1 = tf.nn.relu(tf.matmul(h_conv1_loc1_flat, W_fc_loc1) + b_fc_loc1)\n",
    "\n",
    "\n",
    "    #STN-FC-tanh\n",
    "    initial = np.array([[1., 0, 0], [0, 1., 0]])\n",
    "    initial = initial.astype('float32')\n",
    "    initial = initial.flatten()\n",
    "    b_fc_loc2 = tf.Variable(initial_value=initial, name='b_fc_loc2')\n",
    "    W_fc_loc2 = weight_variable([n_fc_local, 6])\n",
    "\n",
    "    h_fc_loc2 = tf.nn.tanh(tf.matmul(h_fc_loc1, W_fc_loc2) + b_fc_loc2)\n",
    "\n",
    "\n",
    "    # %% We'll create a spatial transformer module to identify discriminative\n",
    "    # %% patches\n",
    "    out_size = (32, 32)\n",
    "    h_trans = transformer(x_tensor, h_fc_loc2, out_size)\n",
    "\n",
    "    regu_stn=tf.nn.l2_loss(b_fc_loc2)+tf.nn.l2_loss(W_fc_loc2)+\\\n",
    "            tf.nn.l2_loss(W_fc_loc1)+tf.nn.l2_loss(b_fc_loc1)+\\\n",
    "            tf.nn.l2_loss(W_conv1_loc1)+tf.nn.l2_loss(b_conv1_loc1)\n",
    "    return [x,h_trans,regu_stn,h_fc_loc2,keep_prob,regular_lambda,learning_rate]\n",
    "\n"
   ]
  },
  {
   "cell_type": "code",
   "execution_count": null,
   "metadata": {
    "collapsed": false
   },
   "outputs": [],
   "source": [
    "x,h_trans,regu_stn,h_fc_loc2,keep_prob,regular_lambda,learning_rate = create_stn()"
   ]
  },
  {
   "cell_type": "code",
   "execution_count": null,
   "metadata": {
    "collapsed": false
   },
   "outputs": [],
   "source": [
    "#The only difference with a regular Session is that an InteractiveSession installs itself as the default session \n",
    "sess = tf.InteractiveSession()\n",
    "\n",
    "#load the graph_def from disk\n",
    "with open(\"../../../whimh2.0/vggface16.tfmodel\", mode='rb') as f:\n",
    "  fileContent = f.read()\n",
    "graph_def = tf.GraphDef()\n",
    "graph_def.ParseFromString(fileContent)"
   ]
  },
  {
   "cell_type": "code",
   "execution_count": null,
   "metadata": {
    "collapsed": false
   },
   "outputs": [],
   "source": [
    "# import the vgg \n",
    "#x_tf = tf.placeholder(tf.float32, shape=[None, 32,32,3])\n",
    "x_tf_1=tf.image.resize_images(h_trans,[224,224])\n",
    "y_tf = tf.placeholder(tf.int32, shape=[None,])\n",
    "tf.import_graph_def(graph_def, input_map={ \"images\": x_tf_1 })\n",
    "print \"graph loaded into default graph\"\n",
    "\n",
    "graph = tf.get_default_graph()"
   ]
  },
  {
   "cell_type": "code",
   "execution_count": null,
   "metadata": {
    "collapsed": false
   },
   "outputs": [],
   "source": [
    "feature_net=graph.get_tensor_by_name(\"import/pool5:0\")"
   ]
  },
  {
   "cell_type": "code",
   "execution_count": null,
   "metadata": {
    "collapsed": true
   },
   "outputs": [],
   "source": [
    "with tf.name_scope('fintune_whimh'):\n",
    "    with tf.name_scope('finetune_layer'):\n",
    "        #calculate_entropy\n",
    "        h_pool3_flat = tf.reshape(feature_net, [-1, 7*7*512])\n",
    "\n",
    "        W_whimh_fc1 = weight_variable([7*7*512,1024])\n",
    "        #W_whimh_fc1 = weight_variable([2*2*512, 1024])\n",
    "        b_whimh_fc1 = bias_variable([1024])\n",
    "        h_fc1=tf.nn.relu(tf.matmul(h_pool3_flat, W_whimh_fc1) + b_whimh_fc1) \n",
    "        h_fc1_drop = tf.nn.dropout(h_fc1, keep_prob,name='keep_prob')\n",
    "\n",
    "        tf.summary.histogram('fc_1/weights', W_whimh_fc1)\n",
    "    with tf.name_scope('finetune_layer'):\n",
    "        #calculate_entropy\n",
    "        W_whimh_fc2 = weight_variable([1024, 5])\n",
    "        b_whimh_fc2 = bias_variable([5])\n",
    "        y_conv=tf.nn.softmax(tf.matmul(h_fc1_drop, W_whimh_fc2) + b_whimh_fc2, name='predictions_softmax') \n",
    "        tf.summary.histogram('fc_2/weights', W_whimh_fc2)\n",
    "    y_tf_2=tf.one_hot(y_tf,5)\n",
    "    with tf.name_scope('loss_calulate'):\n",
    "        #calculate_entropy\n",
    "        cross_entropy = tf.reduce_mean(-tf.reduce_sum(y_tf_2 * tf.log(y_conv), reduction_indices=[1]))\n",
    "    with tf.name_scope('regular'):    \n",
    "        regularizers = (tf.nn.l2_loss(W_whimh_fc1) + tf.nn.l2_loss(b_whimh_fc1)+\n",
    "                        (tf.nn.l2_loss(W_whimh_fc2) + tf.nn.l2_loss(b_whimh_fc2))\n",
    "                       )+regu_stn\n",
    "\n",
    "    with tf.name_scope('loss'):\n",
    "        #carefully deal overfitting\n",
    "        loss=cross_entropy+regular_lambda*regularizers\n",
    "    with tf.name_scope('slover'):\n",
    "        global_step = tf.Variable(0, trainable=False)\n",
    "        learning_rate_decay = tf.train.exponential_decay(learning_rate, global_step,\n",
    "                                                   1000, 0.96, staircase=True)\n",
    "\n",
    "    # %% Define loss/eval/training functions\n",
    "        opt = tf.train.AdamOptimizer(learning_rate=learning_rate)\n",
    "        train_step = opt.minimize(loss)\n",
    "\n",
    "    with tf.name_scope('measure'):\n",
    "        with tf.name_scope('predict'):\n",
    "            predctions=tf.argmax(y_conv,1, name='predictions_')\n",
    "        with tf.name_scope('groundtruth'):\n",
    "            ground_truth=tf.argmax(y_tf_2,1)\n",
    "        correct_prediction = tf.equal(predctions, ground_truth)\n",
    "        accuracy = tf.reduce_mean(tf.cast(correct_prediction, tf.float32))"
   ]
  },
  {
   "cell_type": "code",
   "execution_count": null,
   "metadata": {
    "collapsed": true
   },
   "outputs": [],
   "source": [
    "sess.run(tf.global_variables_initializer())"
   ]
  },
  {
   "cell_type": "code",
   "execution_count": null,
   "metadata": {
    "collapsed": false
   },
   "outputs": [],
   "source": [
    "for i in tf.get_collection(tf.GraphKeys.TRAINABLE_VARIABLES):\n",
    "    print sess.run(i).shape"
   ]
  },
  {
   "cell_type": "code",
   "execution_count": null,
   "metadata": {
    "collapsed": false
   },
   "outputs": [],
   "source": [
    "w=tf.get_collection(tf.GraphKeys.TRAINABLE_VARIABLES)[0:3]\n",
    "conv_w_init=sess.run(w[0])\n",
    "bais_w_init=sess.run(w[1])\n",
    "fc_w_init=sess.run(w[2])"
   ]
  },
  {
   "cell_type": "code",
   "execution_count": null,
   "metadata": {
    "collapsed": false,
    "scrolled": true
   },
   "outputs": [],
   "source": [
    "k=0\n",
    "train_accuracy_sum=0\n",
    "testing_accuracy_sum=0\n",
    "for i in range(10000):\n",
    "    arr=np.arange(len(data['X_train']))\n",
    "    np.random.shuffle(arr)\n",
    "    idx = arr[:10]\n",
    "    train_step.run(feed_dict={x:data['X_train'][idx], y_tf: data['y_train'][idx],\n",
    "                              keep_prob:1,\n",
    "                              regular_lambda:0.001,\n",
    "                              learning_rate:1e-6,\n",
    "                             })\n",
    "    if i%200==0:\n",
    "        ############training acc###########\n",
    "        for j in xrange(10):\n",
    "            arr=np.arange(len(data['X_train']))\n",
    "            np.random.shuffle(arr)\n",
    "            idx_train = arr[:10]\n",
    "            train_accuracy = sess.run(accuracy, feed_dict={   \n",
    "                    x:data['X_train'][idx_train], y_tf: data['y_train'][idx_train],\n",
    "                      keep_prob:1,\n",
    "                      regular_lambda:0.0005,\n",
    "                      learning_rate:0.001\n",
    "                })\n",
    "            train_accuracy_sum+=train_accuracy\n",
    "        train_accuracy_sum/=10\n",
    "        #print train_accuracy\n",
    "        ############testing acc#########\n",
    "        for j in xrange(10):\n",
    "            arr=np.arange(len(data['X_val']))\n",
    "            np.random.shuffle(arr)\n",
    "            idx_test = arr[:10]\n",
    "            testing_accuracy,test_cross_entropy = sess.run([accuracy,cross_entropy], feed_dict={   \n",
    "                    x:data['X_val'][idx_test], y_tf: data['y_val'][idx_test],\n",
    "                    keep_prob:1,\n",
    "                    regular_lambda:0.001,\n",
    "                    learning_rate:0.001\n",
    "                })\n",
    "            testing_accuracy_sum+=testing_accuracy\n",
    "        testing_accuracy_sum/=10\n",
    "        print(\"step %d, training accuracy %g, testing acc %g\"%(i, train_accuracy_sum,testing_accuracy_sum))\n",
    "        train_accuracy_sum=0\n",
    "        testing_accuracy_sum=0\n",
    "    \n"
   ]
  },
  {
   "cell_type": "code",
   "execution_count": null,
   "metadata": {
    "collapsed": true
   },
   "outputs": [],
   "source": [
    "w=tf.get_collection(tf.GraphKeys.TRAINABLE_VARIABLES)[0:3]\n",
    "conv_w_trained=sess.run(w[0])\n",
    "bais_w_trained=sess.run(w[1])\n",
    "fc_w_trained=sess.run(w[2])"
   ]
  },
  {
   "cell_type": "code",
   "execution_count": null,
   "metadata": {
    "collapsed": false
   },
   "outputs": [],
   "source": [
    "(conv_w_trained==conv_w_trained).all()"
   ]
  },
  {
   "cell_type": "code",
   "execution_count": null,
   "metadata": {
    "collapsed": false,
    "scrolled": true
   },
   "outputs": [],
   "source": [
    "ROI,theta = sess.run([h_trans,h_fc_loc2], feed_dict={\n",
    "       x: data['X_train'][0:5], y_tf: data['y_val'][0:5], keep_prob: 1.0,\n",
    "        regular_lambda:0.001,\n",
    "        learning_rate:0.001})\n",
    "\n",
    "print ROI.shape\n",
    "print theta.shape"
   ]
  },
  {
   "cell_type": "code",
   "execution_count": null,
   "metadata": {
    "collapsed": true
   },
   "outputs": [],
   "source": [
    "def getboundary(theta):\n",
    "    four_angles=np.array([[1,1,1],[1,-1,1],[-1,-1,1],[-1,1,1]])\n",
    "    theta=theta.reshape([2,3])\n",
    "    WH=np.array([40,40])\n",
    "    return (((theta.dot(four_angles.T)+1)/2).T*WH)"
   ]
  },
  {
   "cell_type": "code",
   "execution_count": null,
   "metadata": {
    "collapsed": false
   },
   "outputs": [],
   "source": [
    "ROI[0].shape"
   ]
  },
  {
   "cell_type": "code",
   "execution_count": null,
   "metadata": {
    "collapsed": false
   },
   "outputs": [],
   "source": [
    "import cv2\n",
    "count=1\n",
    "for i in xrange(0,5):\n",
    "    plt.subplot(5, 2, count)\n",
    "    first_train_img = data['X_train'][i].copy().astype(np.uint8)\n",
    "    fourangle=getboundary(theta[i])\n",
    "    fourangle=fourangle.astype(int)\n",
    "    #cv2.rectangle(first_train_img, tuple(twoangle[0].tolist()), tuple(twoangle[1].tolist()), (0, 1,0),2)\n",
    "    cv2.line(first_train_img,tuple(fourangle[0].tolist()),tuple(fourangle[1].tolist()),(255,0,0),2)\n",
    "    cv2.line(first_train_img,tuple(fourangle[1].tolist()),tuple(fourangle[2].tolist()),(0,255,0),2)\n",
    "    cv2.line(first_train_img,tuple(fourangle[2].tolist()),tuple(fourangle[3].tolist()),(0,0,255),2)\n",
    "    cv2.line(first_train_img,tuple(fourangle[3].tolist()),tuple(fourangle[0].tolist()),(0,255,0),2)\n",
    "    plt.imshow(first_train_img)\n",
    "    plt.axis('off')\n",
    "    \n",
    "    count+=1\n",
    "    plt.subplot(5, 2, count)\n",
    "    first_train_img = ROI[i].astype(np.uint8)\n",
    "    plt.imshow(first_train_img, cmap = plt.get_cmap('gray'))\n",
    "    plt.axis('off')\n",
    "    count+=1\n",
    "\n",
    "plt.show()"
   ]
  },
  {
   "cell_type": "code",
   "execution_count": null,
   "metadata": {
    "collapsed": true
   },
   "outputs": [],
   "source": [
    "# make it as function\n",
    "def getrotation_img(image,angel):\n",
    "    rows,cols,c = image.shape\n",
    "    M = cv2.getRotationMatrix2D((cols/2,rows/2),angel,1)\n",
    "    dst = cv2.warpAffine(image,M,(cols,rows))\n",
    "    return dst\n"
   ]
  },
  {
   "cell_type": "code",
   "execution_count": null,
   "metadata": {
    "collapsed": false
   },
   "outputs": [],
   "source": [
    "test_idx=7000\n",
    "print data['y_val'][test_idx]\n",
    "det=getrotation_img(data['X_val'][test_idx, :],0)\n",
    "plt.imshow(det.astype(np.uint8))"
   ]
  },
  {
   "cell_type": "code",
   "execution_count": null,
   "metadata": {
    "collapsed": false
   },
   "outputs": [],
   "source": [
    "# create 720 rotation images\n",
    "print data['y_val'][test_idx]\n",
    "temp_value=0\n",
    "first=True\n",
    "for i in xrange(720):\n",
    "    if temp_value==0:\n",
    "        X_test_temp=np.reshape(getrotation_img(data['X_val'][test_idx, :],i), (-1, 32,32,3))\n",
    "        temp_value+=1\n",
    "    else:\n",
    "        temp=np.reshape(getrotation_img(data['X_val'][test_idx, :],i), (-1, 32,32,3))\n",
    "        X_test_temp=np.concatenate((X_test_temp, temp), axis=0)\n",
    "        temp_value+=1\n",
    "        if i%10==9:\n",
    "\n",
    "            ROI,theta,prediction = sess.run([h_trans,h_fc_loc2,predctions], feed_dict={\n",
    "                   x: X_test_temp, keep_prob: 1.0})\n",
    "            temp_value=0\n",
    "            if first:\n",
    "                ROI_sum=ROI\n",
    "                theta_sum=theta\n",
    "                prediction_sum=prediction\n",
    "                first=False\n",
    "            else:\n",
    "                ROI_sum=np.concatenate((ROI_sum, ROI), axis=0)\n",
    "                theta_sum=np.concatenate((theta_sum, theta), axis=0)\n",
    "                prediction_sum=np.concatenate((prediction_sum, prediction), axis=0)"
   ]
  },
  {
   "cell_type": "code",
   "execution_count": null,
   "metadata": {
    "collapsed": false
   },
   "outputs": [],
   "source": [
    "ROI_sum.shape"
   ]
  },
  {
   "cell_type": "code",
   "execution_count": null,
   "metadata": {
    "collapsed": false
   },
   "outputs": [],
   "source": [
    "(prediction_sum==data['y_val'][test_idx]).mean()"
   ]
  },
  {
   "cell_type": "code",
   "execution_count": null,
   "metadata": {
    "collapsed": false
   },
   "outputs": [],
   "source": [
    "X_test_temp.shape"
   ]
  },
  {
   "cell_type": "code",
   "execution_count": null,
   "metadata": {
    "collapsed": false
   },
   "outputs": [],
   "source": [
    "count=1\n",
    "for i in [15,30,90,180]:\n",
    "    plt.subplot(5, 2, count)\n",
    "    first_train_img = getrotation_img(data['X_val'][test_idx, :],i).copy().astype(np.uint8)\n",
    "    fourangle=getboundary(theta_sum[i])\n",
    "    fourangle=fourangle.astype(int)\n",
    "    #cv2.rectangle(first_train_img, tuple(twoangle[0].tolist()), tuple(twoangle[1].tolist()), (0, 1,0),2)\n",
    "    cv2.line(first_train_img,tuple(fourangle[0].tolist()),tuple(fourangle[1].tolist()),(255,0,0),2)\n",
    "    cv2.line(first_train_img,tuple(fourangle[1].tolist()),tuple(fourangle[2].tolist()),(0,255,0),2)\n",
    "    cv2.line(first_train_img,tuple(fourangle[2].tolist()),tuple(fourangle[3].tolist()),(0,0,255),2)\n",
    "    cv2.line(first_train_img,tuple(fourangle[3].tolist()),tuple(fourangle[0].tolist()),(0,255,0),2)\n",
    "    plt.imshow(first_train_img)\n",
    "    plt.axis('off')\n",
    "    \n",
    "    count+=1\n",
    "    plt.subplot(5, 2, count)\n",
    "    first_train_img = ROI_sum[i].astype(np.uint8)\n",
    "    plt.imshow(first_train_img)\n",
    "    plt.axis('off')\n",
    "    count+=1\n",
    "\n",
    "\n",
    "plt.show()"
   ]
  },
  {
   "cell_type": "code",
   "execution_count": null,
   "metadata": {
    "collapsed": false
   },
   "outputs": [],
   "source": [
    "# add retangle to image and write it out\n",
    "for i in xrange(720):\n",
    "    first_train_img = getrotation_img(data['X_val'][test_idx, :],i).copy().astype(np.uint8)\n",
    "    first_train_img = cv2.cvtColor(first_train_img,cv2.COLOR_BGR2RGB)\n",
    "    fourangle=getboundary(theta_sum[i])\n",
    "    fourangle=fourangle.astype(int)\n",
    "    #cv2.rectangle(first_train_img, tuple(twoangle[0].tolist()), tuple(twoangle[1].tolist()), (0, 1,0),2)\n",
    "    cv2.line(first_train_img,tuple(fourangle[0].tolist()),tuple(fourangle[1].tolist()),(255,0,0),2)\n",
    "    cv2.line(first_train_img,tuple(fourangle[1].tolist()),tuple(fourangle[2].tolist()),(0,255,0),2)\n",
    "    cv2.line(first_train_img,tuple(fourangle[2].tolist()),tuple(fourangle[3].tolist()),(0,0,255),2)\n",
    "    cv2.line(first_train_img,tuple(fourangle[3].tolist()),tuple(fourangle[0].tolist()),(0,255,0),2)\n",
    "    cv2.imwrite('face_rotation/'+str(i).zfill(4)+'.jpg',first_train_img)\n"
   ]
  },
  {
   "cell_type": "markdown",
   "metadata": {},
   "source": [
    "\n",
    "# [sec 1-1] Stn almost not moving and rotaion,\n",
    "## try a altertive way, train with a pretrained freezen model"
   ]
  },
  {
   "cell_type": "code",
   "execution_count": null,
   "metadata": {
    "collapsed": false
   },
   "outputs": [],
   "source": [
    "import tensorflow as tf\n",
    "with open(\"pretensorWhimh.pb\", mode='rb') as f:\n",
    "    fileContent = f.read()\n",
    "\n",
    "gdef_1 = tf.GraphDef()\n",
    "gdef_1.ParseFromString(fileContent)"
   ]
  },
  {
   "cell_type": "code",
   "execution_count": null,
   "metadata": {
    "collapsed": false,
    "scrolled": true
   },
   "outputs": [],
   "source": [
    "[n.name for n in gdef_1.node ]\n",
    "#'imput_image' ?x32x32x3\n",
    "#'KP' float"
   ]
  },
  {
   "cell_type": "code",
   "execution_count": null,
   "metadata": {
    "collapsed": true
   },
   "outputs": [],
   "source": [
    "x_tf = tf.placeholder(tf.float32, shape=[None, 32,32,3],name='imput_image')\n",
    "keep_prob = tf.placeholder(tf.float32,name='KP')\n"
   ]
  },
  {
   "cell_type": "code",
   "execution_count": null,
   "metadata": {
    "collapsed": false
   },
   "outputs": [],
   "source": [
    "prediction=tf.import_graph_def(gdef_1, input_map={\"imput_image\": x_tf ,'KP':keep_prob},return_elements=[\"fintune_whimh/measure/predict/predictions_:0\"])"
   ]
  },
  {
   "cell_type": "code",
   "execution_count": null,
   "metadata": {
    "collapsed": false
   },
   "outputs": [],
   "source": [
    "import numpy as np\n",
    "frames=np.load(\"../../../whimh2.0/outfile_x.npy\")\n",
    "y_train=np.load(\"../../../whimh2.0/outfile_y.npy\").astype(int)"
   ]
  },
  {
   "cell_type": "code",
   "execution_count": null,
   "metadata": {
    "collapsed": false
   },
   "outputs": [],
   "source": [
    "import tensorflow as tf\n",
    "sess = tf.InteractiveSession()"
   ]
  },
  {
   "cell_type": "code",
   "execution_count": null,
   "metadata": {
    "collapsed": false
   },
   "outputs": [],
   "source": [
    "results=sess.run(feature_x,feed_dict={x_tf:frames[700:800], keep_prob:1})"
   ]
  },
  {
   "cell_type": "code",
   "execution_count": null,
   "metadata": {
    "collapsed": false
   },
   "outputs": [],
   "source": [
    "# testing at the orginal data\n",
    "sum(sum(results==y_train[700:800]))/100.0"
   ]
  },
  {
   "cell_type": "code",
   "execution_count": null,
   "metadata": {
    "collapsed": true
   },
   "outputs": [],
   "source": [
    "# testing at rotation data\n",
    "frames=np.load(\"rotated_x.npy\")\n",
    "y_train=np.load(\"rotated_y.npy\").astype(int)"
   ]
  },
  {
   "cell_type": "code",
   "execution_count": null,
   "metadata": {
    "collapsed": false
   },
   "outputs": [],
   "source": [
    "arr = np.arange(len(frames))\n",
    "np.random.shuffle(arr)\n",
    "x_train=frames[arr]\n",
    "y_train=y_train[arr]\n",
    "data={\n",
    "  'X_train': x_train[:int(len(x_train)*0.8)],\n",
    "  'y_train': y_train[:int(len(x_train)*0.8)],\n",
    "  'X_val': x_train[int(len(x_train)*0.8):],\n",
    "  'y_val': y_train[int(len(x_train)*0.8):],\n",
    "  'X_val_frame' : frames[int(len(x_train)*0.8):],\n",
    "}\n",
    "print \"there are \"+ str(data['X_train'].shape[0]) + \" images in training set\"\n",
    "print \"there are \"+ str(data['X_val'].shape[0]) + \" images in testing set\""
   ]
  },
  {
   "cell_type": "code",
   "execution_count": null,
   "metadata": {
    "collapsed": true
   },
   "outputs": [],
   "source": [
    "results=sess.run(feature_x,feed_dict={x_tf:data['X_train'][700:800], keep_prob:1})"
   ]
  },
  {
   "cell_type": "code",
   "execution_count": null,
   "metadata": {
    "collapsed": false
   },
   "outputs": [],
   "source": [
    "# accuracy reduce to ~80%\n",
    "sum(sum(results==data['y_train'][700:800]))/100.0"
   ]
  },
  {
   "cell_type": "markdown",
   "metadata": {},
   "source": [
    "# let's attach stn!!\n"
   ]
  },
  {
   "cell_type": "code",
   "execution_count": null,
   "metadata": {
    "collapsed": true
   },
   "outputs": [],
   "source": [
    "import tensorflow as tf\n",
    "from spatial_transformer import transformer\n",
    "import numpy as np\n",
    "def weight_variable(shape):\n",
    "  initial = tf.truncated_normal(shape, stddev=0.0001)\n",
    "  return tf.Variable(initial)\n",
    "\n",
    "def bias_variable(shape):\n",
    "  initial = tf.constant(0.01, shape=shape)\n",
    "  return tf.Variable(initial)\n"
   ]
  },
  {
   "cell_type": "code",
   "execution_count": null,
   "metadata": {
    "collapsed": false
   },
   "outputs": [],
   "source": [
    "tf.reset_default_graph()"
   ]
  },
  {
   "cell_type": "code",
   "execution_count": null,
   "metadata": {
    "collapsed": false
   },
   "outputs": [],
   "source": [
    "\n",
    "with open(\"pretensorWhimh.pb\", mode='rb') as f:\n",
    "    fileContent = f.read()\n",
    "\n",
    "gdef_1 = tf.GraphDef()\n",
    "gdef_1.ParseFromString(fileContent)"
   ]
  },
  {
   "cell_type": "code",
   "execution_count": null,
   "metadata": {
    "collapsed": true
   },
   "outputs": [],
   "source": [
    "def create_stn():\n",
    "    # %% We can add dropout for regularizing and to reduce overfitting like so:\n",
    "    keep_prob = tf.placeholder(tf.float32,name='KP')\n",
    "    regular_lambda = tf.placeholder(tf.float32,name='RL')\n",
    "    learning_rate = tf.placeholder(tf.float32,name='LR')\n",
    "\n",
    "    # %% Placeholders for 40x40 resolution\n",
    "    x = tf.placeholder(tf.float32, [None, 32,32,3])\n",
    "    x_tensor = tf.image.resize_images(x,[40,40])\n",
    "\n",
    "    filter_size = 3\n",
    "    n_filters_1 = 32\n",
    "    W_conv1_loc1 = weight_variable([filter_size, filter_size, 3, n_filters_1])\n",
    "    b_conv1_loc1 = bias_variable([n_filters_1])\n",
    "\n",
    "    W_fc_loc1 = weight_variable([1600, 20])\n",
    "    b_fc_loc1 = bias_variable([20])\n",
    "\n",
    "    #STN-conv_1-relu\n",
    "    h_conv1_loc1 = tf.nn.relu(\n",
    "        tf.nn.conv2d(input=x_tensor,\n",
    "                     filter=W_conv1_loc1,\n",
    "                     strides=[1, 2, 2, 1],\n",
    "                     padding='SAME') +\n",
    "        b_conv1_loc1)\n",
    "    h_conv1_loc1_drop = tf.nn.dropout(h_conv1_loc1, keep_prob)\n",
    "    h_conv1_loc1_flat = tf.reshape(h_conv1_loc1_drop, [-1, 20* 20 * n_filters_1])\n",
    "\n",
    "\n",
    "    #STN-FC-relu\n",
    "    n_fc_local=256\n",
    "    W_fc_loc1 = weight_variable([20* 20* n_filters_1, n_fc_local])\n",
    "    b_fc_loc1 = bias_variable([n_fc_local])\n",
    "    h_fc_loc1 = tf.nn.relu(tf.matmul(h_conv1_loc1_flat, W_fc_loc1) + b_fc_loc1)\n",
    "\n",
    "\n",
    "    #STN-FC-tanh\n",
    "    initial = np.array([[1., 0, 0], [0, 1., 0]])\n",
    "    initial = initial.astype('float32')\n",
    "    initial = initial.flatten()\n",
    "    b_fc_loc2 = tf.Variable(initial_value=initial, name='b_fc_loc2')\n",
    "    W_fc_loc2 = weight_variable([n_fc_local, 6])\n",
    "\n",
    "    h_fc_loc2 = tf.nn.tanh(tf.matmul(h_fc_loc1, W_fc_loc2) + b_fc_loc2)\n",
    "\n",
    "\n",
    "    # %% We'll create a spatial transformer module to identify discriminative\n",
    "    # %% patches\n",
    "    out_size = (32, 32)\n",
    "    h_trans = transformer(x_tensor, h_fc_loc2, out_size)\n",
    "\n",
    "    regu_stn=tf.nn.l2_loss(b_fc_loc2)+tf.nn.l2_loss(W_fc_loc2)+\\\n",
    "            tf.nn.l2_loss(W_fc_loc1)+tf.nn.l2_loss(b_fc_loc1)+\\\n",
    "            tf.nn.l2_loss(W_conv1_loc1)+tf.nn.l2_loss(b_conv1_loc1)\n",
    "    return [x,h_trans,regu_stn,h_fc_loc2,keep_prob,regular_lambda,learning_rate]\n",
    "\n"
   ]
  },
  {
   "cell_type": "code",
   "execution_count": null,
   "metadata": {
    "collapsed": false
   },
   "outputs": [],
   "source": [
    "x,h_trans,regu_stn,h_fc_loc2,keep_prob,regular_lambda,learning_rate = create_stn()"
   ]
  },
  {
   "cell_type": "markdown",
   "metadata": {},
   "source": [
    "### attach!!"
   ]
  },
  {
   "cell_type": "code",
   "execution_count": null,
   "metadata": {
    "collapsed": false
   },
   "outputs": [],
   "source": [
    "prediction,predictions=tf.import_graph_def(gdef_1, input_map={\"imput_image\": h_trans ,'KP':keep_prob},\n",
    "                        return_elements=[\"fintune_whimh/finetune_layer_1/predictions_softmax:0\",\n",
    "                                         \"fintune_whimh/measure/predict/predictions_:0\"])"
   ]
  },
  {
   "cell_type": "markdown",
   "metadata": {},
   "source": [
    "### create loss function with prediction an regu_stn\n"
   ]
  },
  {
   "cell_type": "code",
   "execution_count": null,
   "metadata": {
    "collapsed": true
   },
   "outputs": [],
   "source": [
    "y_tf = tf.placeholder(tf.int32, shape=[None,],name='ground_truth')\n",
    "y_tf_2=tf.one_hot(y_tf,5)\n",
    "regular_lambda = tf.placeholder(tf.float32,name='RL')\n",
    "learning_rate = tf.placeholder(tf.float32,name='LR')"
   ]
  },
  {
   "cell_type": "code",
   "execution_count": null,
   "metadata": {
    "collapsed": false
   },
   "outputs": [],
   "source": [
    "with tf.name_scope('loss_calulate'):\n",
    "    #calculate_entropy\n",
    "    cross_entropy = tf.reduce_mean(-tf.reduce_sum(y_tf_2 * tf.log(prediction), reduction_indices=[1]))\n",
    "with tf.name_scope('regular'):    \n",
    "    regularizers = regu_stn\n",
    "\n",
    "with tf.name_scope('loss'):\n",
    "    #carefully deal overfitting\n",
    "    loss=cross_entropy+regular_lambda*regularizers\n",
    "with tf.name_scope('slover'):\n",
    "    global_step = tf.Variable(0, trainable=False)\n",
    "    learning_rate_decay = tf.train.exponential_decay(learning_rate, global_step,\n",
    "                                               1000, 0.96, staircase=True)\n",
    "    opt = tf.train.AdamOptimizer(learning_rate=learning_rate)\n",
    "    train_step = opt.minimize(loss)\n",
    "\n",
    "with tf.name_scope('measure'):\n",
    "    with tf.name_scope('groundtruth'):\n",
    "        ground_truth=tf.argmax(y_tf_2,1)\n",
    "    correct_prediction = tf.equal(predictions, ground_truth)\n",
    "    accuracy = tf.reduce_mean(tf.cast(correct_prediction, tf.float32))"
   ]
  },
  {
   "cell_type": "code",
   "execution_count": null,
   "metadata": {
    "collapsed": false
   },
   "outputs": [],
   "source": [
    "predictions"
   ]
  },
  {
   "cell_type": "markdown",
   "metadata": {},
   "source": [
    "### prepare data"
   ]
  },
  {
   "cell_type": "code",
   "execution_count": null,
   "metadata": {
    "collapsed": true
   },
   "outputs": [],
   "source": [
    "# testing at rotation data\n",
    "frames=np.load(\"rotated_x.npy\")\n",
    "y_train=np.load(\"rotated_y.npy\").astype(int)"
   ]
  },
  {
   "cell_type": "code",
   "execution_count": null,
   "metadata": {
    "collapsed": false
   },
   "outputs": [],
   "source": [
    "arr = np.arange(len(frames))\n",
    "np.random.shuffle(arr)\n",
    "x_train=frames[arr]\n",
    "y_train=y_train[arr]\n",
    "data={\n",
    "  'X_train': x_train[:int(len(x_train)*0.8)],\n",
    "  'y_train': y_train[:int(len(x_train)*0.8)],\n",
    "  'X_val': x_train[int(len(x_train)*0.8):],\n",
    "  'y_val': y_train[int(len(x_train)*0.8):],\n",
    "  'X_val_frame' : frames[int(len(x_train)*0.8):],\n",
    "}\n",
    "print \"there are \"+ str(data['X_train'].shape[0]) + \" images in training set\"\n",
    "print \"there are \"+ str(data['X_val'].shape[0]) + \" images in testing set\""
   ]
  },
  {
   "cell_type": "code",
   "execution_count": null,
   "metadata": {
    "collapsed": true
   },
   "outputs": [],
   "source": [
    "sess = tf.InteractiveSession()"
   ]
  },
  {
   "cell_type": "code",
   "execution_count": null,
   "metadata": {
    "collapsed": true
   },
   "outputs": [],
   "source": [
    "sess.run(tf.global_variables_initializer())"
   ]
  },
  {
   "cell_type": "code",
   "execution_count": null,
   "metadata": {
    "collapsed": false
   },
   "outputs": [],
   "source": [
    "k=0\n",
    "train_accuracy_sum=0\n",
    "testing_accuracy_sum=0\n",
    "for i in range(10000):\n",
    "    arr=np.arange(len(data['X_train']))\n",
    "    np.random.shuffle(arr)\n",
    "    idx = arr[:10]\n",
    "    train_step.run(feed_dict={x:data['X_train'][idx], y_tf: data['y_train'][idx],\n",
    "                              keep_prob:1,\n",
    "                              regular_lambda:0,\n",
    "                              learning_rate:1,\n",
    "                             })\n",
    "    if i%200==0:\n",
    "        ############training acc###########\n",
    "        for j in xrange(10):\n",
    "            arr=np.arange(len(data['X_train']))\n",
    "            np.random.shuffle(arr)\n",
    "            idx_train = arr[:10]\n",
    "            train_accuracy = sess.run(accuracy, feed_dict={   \n",
    "                    x:data['X_train'][idx_train], y_tf: data['y_train'][idx_train],\n",
    "                      keep_prob:1,\n",
    "                      regular_lambda:0.0005,\n",
    "                      learning_rate:0.001\n",
    "                })\n",
    "            train_accuracy_sum+=train_accuracy\n",
    "        train_accuracy_sum/=10\n",
    "        #print train_accuracy\n",
    "        ############testing acc#########\n",
    "        for j in xrange(10):\n",
    "            arr=np.arange(len(data['X_val']))\n",
    "            np.random.shuffle(arr)\n",
    "            idx_test = arr[:10]\n",
    "            testing_accuracy,test_cross_entropy = sess.run([accuracy,cross_entropy], feed_dict={   \n",
    "                    x:data['X_val'][idx_test], y_tf: data['y_val'][idx_test],\n",
    "                    keep_prob:1,\n",
    "                    regular_lambda:0.001,\n",
    "                    learning_rate:0.001\n",
    "                })\n",
    "            testing_accuracy_sum+=testing_accuracy\n",
    "        testing_accuracy_sum/=10\n",
    "        print(\"step %d, training accuracy %g, testing acc %g\"%(i, train_accuracy_sum,testing_accuracy_sum))\n",
    "        train_accuracy_sum=0\n",
    "        testing_accuracy_sum=0\n",
    "    "
   ]
  },
  {
   "cell_type": "markdown",
   "metadata": {},
   "source": [
    "# sec [1-2] add stn at pooling 5\n",
    "fucking wondering if it's wrong with freezen model"
   ]
  },
  {
   "cell_type": "code",
   "execution_count": null,
   "metadata": {
    "collapsed": true
   },
   "outputs": [],
   "source": [
    "import tensorflow as tf\n",
    "from spatial_transformer import transformer\n",
    "import numpy as np\n",
    "frames=np.load(\"rotated_x.npy\")\n",
    "y_train=np.load(\"rotated_y.npy\").astype(int)"
   ]
  },
  {
   "cell_type": "code",
   "execution_count": null,
   "metadata": {
    "collapsed": true
   },
   "outputs": [],
   "source": [
    "def weight_variable(shape):\n",
    "  initial = tf.truncated_normal(shape, stddev=0.0001)\n",
    "  return tf.Variable(initial)\n",
    "\n",
    "def bias_variable(shape):\n",
    "  initial = tf.constant(0.01, shape=shape)\n",
    "  return tf.Variable(initial)\n"
   ]
  },
  {
   "cell_type": "code",
   "execution_count": null,
   "metadata": {
    "collapsed": false
   },
   "outputs": [],
   "source": [
    "#load the graph_def from disk\n",
    "with open(\"../../../whimh2.0/vggface16.tfmodel\", mode='rb') as f:\n",
    "    fileContent = f.read()\n",
    "graph_def = tf.GraphDef()\n",
    "graph_def.ParseFromString(fileContent)"
   ]
  },
  {
   "cell_type": "code",
   "execution_count": null,
   "metadata": {
    "collapsed": false
   },
   "outputs": [],
   "source": [
    "tf.reset_default_graph()"
   ]
  },
  {
   "cell_type": "code",
   "execution_count": null,
   "metadata": {
    "collapsed": false
   },
   "outputs": [],
   "source": [
    "x_tf = tf.placeholder(tf.float32, shape=[None, 32,32,3])\n",
    "x_tf_1=tf.image.resize_images(x_tf,[224,224])\n",
    "tf.import_graph_def(graph_def, input_map={ \"images\": x_tf_1 })\n",
    "print \"graph loaded into default graph\""
   ]
  },
  {
   "cell_type": "code",
   "execution_count": null,
   "metadata": {
    "collapsed": false
   },
   "outputs": [],
   "source": [
    "feature_net=graph.get_tensor_by_name(\"import/pool5:0\")"
   ]
  },
  {
   "cell_type": "code",
   "execution_count": null,
   "metadata": {
    "collapsed": true
   },
   "outputs": [],
   "source": [
    "sess = tf.InteractiveSession()"
   ]
  },
  {
   "cell_type": "code",
   "execution_count": null,
   "metadata": {
    "collapsed": false
   },
   "outputs": [],
   "source": [
    "for i in xrange(frames.shape[0]/100):\n",
    "    if i==0:\n",
    "        feature_x = sess.run([feature_net], feed_dict={x_tf:frames[:100]})[0]\n",
    "    elif i==frames.shape[0]/100:\n",
    "        feature_x1 = sess.run([feature_net], feed_dict={x_tf:frames[i*100:]})[0]\n",
    "    else:\n",
    "        feature_x1 = sess.run([feature_net], feed_dict={x_tf:frames[i*100:(i+1)*100]})[0]\n",
    "    if i!=0:\n",
    "        feature_x=np.concatenate((feature_x,feature_x1))"
   ]
  },
  {
   "cell_type": "code",
   "execution_count": null,
   "metadata": {
    "collapsed": true
   },
   "outputs": [],
   "source": [
    "np.save(\"rotated_x_pool5\",feature_x)"
   ]
  },
  {
   "cell_type": "code",
   "execution_count": null,
   "metadata": {
    "collapsed": false
   },
   "outputs": [],
   "source": [
    "feature_x.shape"
   ]
  },
  {
   "cell_type": "markdown",
   "metadata": {},
   "source": [
    "# let's attach the stn to pooling5\n"
   ]
  },
  {
   "cell_type": "code",
   "execution_count": null,
   "metadata": {
    "collapsed": false
   },
   "outputs": [],
   "source": [
    "import tensorflow as tf\n",
    "from spatial_transformer import transformer\n",
    "import numpy as np\n",
    "frames=np.load(\"rotated_x.npy\")\n",
    "y_train=np.load(\"rotated_y.npy\").astype(int)\n",
    "feature_x=np.load(\"rotated_x_pool5.npy\")\n"
   ]
  },
  {
   "cell_type": "code",
   "execution_count": null,
   "metadata": {
    "collapsed": false
   },
   "outputs": [],
   "source": [
    "print frames.shape\n",
    "print y_train.shape\n",
    "print feature_x.shape"
   ]
  },
  {
   "cell_type": "code",
   "execution_count": null,
   "metadata": {
    "collapsed": true
   },
   "outputs": [],
   "source": [
    "def weight_variable(shape):\n",
    "  initial = tf.truncated_normal(shape, stddev=0.0001)\n",
    "  return tf.Variable(initial)\n",
    "\n",
    "def bias_variable(shape):\n",
    "  initial = tf.constant(0.01, shape=shape)\n",
    "  return tf.Variable(initial)\n"
   ]
  },
  {
   "cell_type": "code",
   "execution_count": null,
   "metadata": {
    "collapsed": true
   },
   "outputs": [],
   "source": [
    "def create_stn():\n",
    "    # %% We can add dropout for regularizing and to reduce overfitting like so:\n",
    "    keep_prob = tf.placeholder(tf.float32,name='KP')\n",
    "    regular_lambda = tf.placeholder(tf.float32,name='RL')\n",
    "    learning_rate = tf.placeholder(tf.float32,name='LR')\n",
    "\n",
    "    # %% Placeholders for 40x40 resolution\n",
    "    x_tensor = tf.placeholder(tf.float32, [None, 7,7,512])\n",
    "\n",
    "    filter_size = 3\n",
    "    n_filters_1 = 32\n",
    "    W_conv1_loc1 = weight_variable([filter_size, filter_size, 512, n_filters_1])\n",
    "    b_conv1_loc1 = bias_variable([n_filters_1])\n",
    "\n",
    "    #STN-conv_1-relu\n",
    "    h_conv1_loc1 = tf.nn.relu(\n",
    "        tf.nn.conv2d(input=x_tensor,\n",
    "                     filter=W_conv1_loc1,\n",
    "                     strides=[1, 2, 2, 1],\n",
    "                     padding='SAME') +\n",
    "        b_conv1_loc1)\n",
    "    \n",
    "    h_conv1_loc1_drop = tf.nn.dropout(h_conv1_loc1, keep_prob)\n",
    "    h_conv1_loc1_flat = tf.reshape(h_conv1_loc1_drop, [-1, 4* 4* n_filters_1])\n",
    "\n",
    "    \n",
    "    #STN-FC-relu\n",
    "    n_fc_local=256\n",
    "    W_fc_loc1 = weight_variable([ 4* 4* n_filters_1, n_fc_local])\n",
    "    b_fc_loc1 = bias_variable([n_fc_local])\n",
    "    h_fc_loc1 = tf.nn.relu(tf.matmul(h_conv1_loc1_flat, W_fc_loc1) + b_fc_loc1)\n",
    "\n",
    "\n",
    "    #STN-FC-tanh\n",
    "    initial = np.array([[1., 0, 0], [0, 1., 0]])\n",
    "    initial = initial.astype('float32')\n",
    "    initial = initial.flatten()\n",
    "    b_fc_loc2 = tf.Variable(initial_value=initial, name='b_fc_loc2')\n",
    "    W_fc_loc2 = weight_variable([n_fc_local, 6])\n",
    "\n",
    "    h_fc_loc2 = tf.nn.tanh(tf.matmul(h_fc_loc1, W_fc_loc2) + b_fc_loc2)\n",
    "\n",
    "\n",
    "    # %% We'll create a spatial transformer module to identify discriminative\n",
    "    # %% patches\n",
    "    out_size = (7, 7)\n",
    "    h_trans = transformer(x_tensor, h_fc_loc2, out_size)\n",
    "\n",
    "    regu_stn=tf.nn.l2_loss(b_fc_loc2)+tf.nn.l2_loss(W_fc_loc2)+\\\n",
    "            tf.nn.l2_loss(W_fc_loc1)+tf.nn.l2_loss(b_fc_loc1)+\\\n",
    "            tf.nn.l2_loss(W_conv1_loc1)+tf.nn.l2_loss(b_conv1_loc1)\n",
    "    return [x_tensor,h_trans,regu_stn,h_fc_loc2,keep_prob,regular_lambda,learning_rate]\n"
   ]
  },
  {
   "cell_type": "code",
   "execution_count": null,
   "metadata": {
    "collapsed": true
   },
   "outputs": [],
   "source": [
    "tf.reset_default_graph()\n",
    "sess = tf.InteractiveSession()\n"
   ]
  },
  {
   "cell_type": "code",
   "execution_count": null,
   "metadata": {
    "collapsed": false
   },
   "outputs": [],
   "source": [
    "x,h_trans,regu_stn,h_fc_loc2,keep_prob,regular_lambda,learning_rate = create_stn()\n",
    "sess.run(tf.global_variables_initializer())\n",
    "print sess.run([h_trans], feed_dict={x:feature_x[:1],keep_prob:1})[0].shape"
   ]
  },
  {
   "cell_type": "code",
   "execution_count": null,
   "metadata": {
    "collapsed": true
   },
   "outputs": [],
   "source": [
    "y_tf = tf.placeholder(tf.int32, shape=[None,],name='ground_truth')\n"
   ]
  },
  {
   "cell_type": "code",
   "execution_count": null,
   "metadata": {
    "collapsed": false
   },
   "outputs": [],
   "source": [
    "with tf.name_scope('fintune_whimh'):\n",
    "    with tf.name_scope('finetune_layer'):\n",
    "        #calculate_entropy\n",
    "        h_pool3_flat = tf.reshape(h_trans, [-1, 7*7*512])\n",
    "        W_whimh_fc1 = weight_variable([7*7*512,512])\n",
    "        #W_whimh_fc1 = weight_variable([2*2*512, 1024])\n",
    "        b_whimh_fc1 = bias_variable([512])\n",
    "        h_fc1=tf.nn.relu(tf.matmul(h_pool3_flat, W_whimh_fc1) + b_whimh_fc1) \n",
    "        h_fc1_drop = tf.nn.dropout(h_fc1, keep_prob,name='keep_prob')\n",
    "\n",
    "    with tf.name_scope('finetune_layer'):\n",
    "        #calculate_entropy\n",
    "        W_whimh_fc2 = weight_variable([512, 5])\n",
    "        b_whimh_fc2 = bias_variable([5])\n",
    "        y_conv=tf.nn.softmax(tf.matmul(h_fc1_drop, W_whimh_fc2) + b_whimh_fc2, name='predictions_softmax') \n",
    "    y_tf_2=tf.one_hot(y_tf,5)\n",
    "    with tf.name_scope('loss_calulate'):\n",
    "        #calculate_entropy\n",
    "        cross_entropy = tf.reduce_mean(-tf.reduce_sum(y_tf_2 * tf.log(y_conv), reduction_indices=[1]))\n",
    "    with tf.name_scope('regular'):    \n",
    "        regularizers = (tf.nn.l2_loss(W_whimh_fc1) + tf.nn.l2_loss(b_whimh_fc1)+\n",
    "                        (tf.nn.l2_loss(W_whimh_fc2) + tf.nn.l2_loss(b_whimh_fc2))\n",
    "                       )+regu_stn\n",
    "\n",
    "    with tf.name_scope('loss'):\n",
    "        #carefully deal overfitting\n",
    "        loss=cross_entropy+regular_lambda*regularizers\n",
    "    with tf.name_scope('slover'):\n",
    "        global_step = tf.Variable(0, trainable=False)\n",
    "        learning_rate_decay = tf.train.exponential_decay(learning_rate, global_step,\n",
    "                                                   1000, 0.96, staircase=True)\n",
    "\n",
    "    # %% Define loss/eval/training functions\n",
    "        opt = tf.train.AdamOptimizer(learning_rate=learning_rate)\n",
    "        train_step = opt.minimize(loss)\n",
    "\n",
    "    with tf.name_scope('measure'):\n",
    "        with tf.name_scope('predict'):\n",
    "            predctions=tf.argmax(y_conv,1, name='predictions_')\n",
    "        with tf.name_scope('groundtruth'):\n",
    "            ground_truth=tf.argmax(y_tf_2,1)\n",
    "        correct_prediction = tf.equal(predctions, ground_truth)\n",
    "        accuracy = tf.reduce_mean(tf.cast(correct_prediction, tf.float32))"
   ]
  },
  {
   "cell_type": "code",
   "execution_count": null,
   "metadata": {
    "collapsed": false
   },
   "outputs": [],
   "source": [
    "len(feature_x)"
   ]
  },
  {
   "cell_type": "markdown",
   "metadata": {},
   "source": [
    "### let's go training training all night ohohoh"
   ]
  },
  {
   "cell_type": "code",
   "execution_count": null,
   "metadata": {
    "collapsed": false
   },
   "outputs": [],
   "source": [
    "arr = np.arange(len(feature_x))\n",
    "np.random.shuffle(arr)\n",
    "x_train=feature_x[arr]\n",
    "y_train=y_train[arr]\n",
    "data={\n",
    "  'X_train': x_train[:int(len(x_train)*0.8)],\n",
    "  'y_train': y_train[:int(len(x_train)*0.8)],\n",
    "  'X_val': x_train[int(len(x_train)*0.8):],\n",
    "  'y_val': y_train[int(len(x_train)*0.8):],\n",
    "  'X_val_frame' : frames[int(len(x_train)*0.8):],\n",
    "}\n",
    "print \"there are \"+ str(data['X_train'].shape[0]) + \" images in training set\"\n",
    "print \"there are \"+ str(data['X_val'].shape[0]) + \" images in testing set\""
   ]
  },
  {
   "cell_type": "code",
   "execution_count": null,
   "metadata": {
    "collapsed": true
   },
   "outputs": [],
   "source": [
    "sess.run(tf.global_variables_initializer())"
   ]
  },
  {
   "cell_type": "code",
   "execution_count": null,
   "metadata": {
    "collapsed": false,
    "scrolled": true
   },
   "outputs": [],
   "source": [
    "k=0\n",
    "for i in range(15000):\n",
    "  arr=np.arange(len(data['X_train']))\n",
    "  np.random.shuffle(arr)\n",
    "  idx = arr[:15]\n",
    "  train_step.run(feed_dict={x:data['X_train'][idx], y_tf: data['y_train'][idx],\n",
    "                            keep_prob:1,\n",
    "                            regular_lambda:0.0005,\n",
    "                            learning_rate:1e-7\n",
    "                           })\n",
    "  if i%200==0:\n",
    "    ############training acc###########\n",
    "    #train_accuracy = accuracy.eval(feed_dict={   \n",
    "    #x_tf:data['X_train'], y_tf: data['y_train'], keep_prob: 1.0})\n",
    "    arr=np.arange(len(data['X_train']))\n",
    "    np.random.shuffle(arr)\n",
    "    idx_train = arr[:400]\n",
    "    train_accuracy,train_cross_entropy = sess.run([accuracy,cross_entropy], feed_dict={   \n",
    "            x:data['X_train'][idx_train], y_tf: data['y_train'][idx_train],\n",
    "            keep_prob:1,\n",
    "            regular_lambda:0.001,\n",
    "            learning_rate:1e-6\n",
    "        })\n",
    "    #print train_accuracy\n",
    "    ############testing acc#########\n",
    "    arr=np.arange(len(data['X_val']))\n",
    "    np.random.shuffle(arr)\n",
    "    idx_test = arr[:400]\n",
    "    testing_accuracy,test_cross_entropy = sess.run([accuracy,cross_entropy], feed_dict={   \n",
    "            x:data['X_val'][idx_test], y_tf: data['y_val'][idx_test],\n",
    "            keep_prob:1,\n",
    "            regular_lambda:0.001,\n",
    "            learning_rate:1e-6})\n",
    "    print(\"step %d, training accuracy %g, testing acc %g\"%(i, train_accuracy,testing_accuracy))\n",
    "    \n"
   ]
  },
  {
   "cell_type": "code",
   "execution_count": null,
   "metadata": {
    "collapsed": true
   },
   "outputs": [],
   "source": [
    "# make it as function\n",
    "import cv2\n",
    "import matplotlib.pyplot as plt\n",
    "import cv2\n",
    "%matplotlib inline\n",
    "def getrotation_img(image,angel):\n",
    "    rows,cols,c = image.shape\n",
    "    M = cv2.getRotationMatrix2D((cols/2,rows/2),angel,1)\n",
    "    dst = cv2.warpAffine(image,M,(cols,rows))\n",
    "    return dst"
   ]
  },
  {
   "cell_type": "code",
   "execution_count": null,
   "metadata": {
    "collapsed": false
   },
   "outputs": [],
   "source": [
    "test_idx=99\n",
    "print data['y_val'][test_idx]\n",
    "det=getrotation_img(data['X_val_frame'][test_idx, :],0)\n",
    "plt.imshow(det.astype(np.uint8))"
   ]
  },
  {
   "cell_type": "code",
   "execution_count": null,
   "metadata": {
    "collapsed": false
   },
   "outputs": [],
   "source": [
    "\n",
    "# create 720 rotation images\n",
    "print data['y_val'][test_idx]\n",
    "for i in xrange(720):\n",
    "    if i==0:\n",
    "        X_test_temp=np.reshape(getrotation_img(data['X_val_frame'][test_idx, :],i), (-1, 32,32,3))\n",
    "    else:\n",
    "        temp=np.reshape(getrotation_img(data['X_val_frame'][test_idx, :],i), (-1, 32,32,3))\n",
    "        X_test_temp=np.concatenate((X_test_temp, temp), axis=0)\n"
   ]
  },
  {
   "cell_type": "code",
   "execution_count": null,
   "metadata": {
    "collapsed": false
   },
   "outputs": [],
   "source": [
    "#load the graph_def from disk\n",
    "with open(\"../../../whimh2.0/vggface16.tfmodel\", mode='rb') as f:\n",
    "    fileContent = f.read()\n",
    "graph_def = tf.GraphDef()\n",
    "graph_def.ParseFromString(fileContent)"
   ]
  },
  {
   "cell_type": "code",
   "execution_count": null,
   "metadata": {
    "collapsed": false
   },
   "outputs": [],
   "source": [
    "x_tf = tf.placeholder(tf.float32, shape=[None, 32,32,3])\n",
    "x_tf_1=tf.image.resize_images(x_tf,[224,224])\n",
    "tf.import_graph_def(graph_def, input_map={ \"images\": x_tf_1 })\n",
    "print \"graph loaded into default graph\""
   ]
  },
  {
   "cell_type": "code",
   "execution_count": null,
   "metadata": {
    "collapsed": false
   },
   "outputs": [],
   "source": [
    "graph = tf.get_default_graph()\n",
    "feature_net=graph.get_tensor_by_name(\"import/pool5:0\")"
   ]
  },
  {
   "cell_type": "code",
   "execution_count": null,
   "metadata": {
    "collapsed": false
   },
   "outputs": [],
   "source": [
    "#forward to pooling5\n",
    "whimh_poll_100 = sess.run([feature_net], feed_dict={\n",
    "       x_tf: X_test_temp[:100], keep_prob: 1.0})\n",
    "whimh_poll_200 = sess.run([feature_net], feed_dict={\n",
    "       x_tf: X_test_temp[100:200], keep_prob: 1.0})\n",
    "whimh_poll_300 = sess.run([feature_net], feed_dict={\n",
    "       x_tf: X_test_temp[200:300], keep_prob: 1.0})\n",
    "whimh_poll_400 = sess.run([feature_net], feed_dict={\n",
    "       x_tf: X_test_temp[300:400], keep_prob: 1.0})\n",
    "whimh_poll_500 = sess.run([feature_net], feed_dict={\n",
    "       x_tf: X_test_temp[400:500], keep_prob: 1.0})\n",
    "whimh_poll_600 = sess.run([feature_net], feed_dict={\n",
    "       x_tf: X_test_temp[500:600], keep_prob: 1.0})\n",
    "whimh_poll_700 = sess.run([feature_net], feed_dict={\n",
    "       x_tf: X_test_temp[600:700], keep_prob: 1.0})\n",
    "whimh_poll_800 = sess.run([feature_net], feed_dict={\n",
    "       x_tf: X_test_temp[700:], keep_prob: 1.0})"
   ]
  },
  {
   "cell_type": "code",
   "execution_count": null,
   "metadata": {
    "collapsed": false
   },
   "outputs": [],
   "source": [
    "whimh_poll=(np.concatenate((whimh_poll_100[0],whimh_poll_200[0],whimh_poll_300[0],whimh_poll_400[0],\n",
    "                           whimh_poll_500[0],whimh_poll_600[0],whimh_poll_700[0],whimh_poll_800[0]), axis=0))"
   ]
  },
  {
   "cell_type": "code",
   "execution_count": null,
   "metadata": {
    "collapsed": false
   },
   "outputs": [],
   "source": [
    "predctions_whimh,theta = sess.run([predctions,h_fc_loc2], feed_dict={   \n",
    "        x:whimh_poll,\n",
    "        keep_prob:1,\n",
    "        regular_lambda:0.001,\n",
    "        learning_rate:1e-6\n",
    "    })\n"
   ]
  },
  {
   "cell_type": "code",
   "execution_count": null,
   "metadata": {
    "collapsed": false
   },
   "outputs": [],
   "source": [
    "print sum(predctions_whimh==0)/720.0"
   ]
  },
  {
   "cell_type": "code",
   "execution_count": null,
   "metadata": {
    "collapsed": true
   },
   "outputs": [],
   "source": [
    "def getboundary(theta):\n",
    "    four_angles=np.array([[1,1,1],[1,-1,1],[-1,-1,1],[-1,1,1]])\n",
    "    theta=theta.reshape([2,3])\n",
    "    WH=np.array([32,32])\n",
    "    return (((theta.dot(four_angles.T)+1)/2).T*WH)"
   ]
  },
  {
   "cell_type": "code",
   "execution_count": null,
   "metadata": {
    "collapsed": false
   },
   "outputs": [],
   "source": [
    "import cv2\n",
    "count=1\n",
    "for i in [15,30,90,180]:\n",
    "    plt.subplot(5, 1, count)\n",
    "    first_train_img = X_test_temp[i].copy()\n",
    "    #first_train_img = cv2.cvtColor(first_train_img,cv2.COLOR_GRAY2RGB)\n",
    "    fourangle=getboundary(theta[i])\n",
    "    fourangle=fourangle.astype(int)\n",
    "    cv2.line(first_train_img,tuple(fourangle[0].tolist()),tuple(fourangle[1].tolist()),(255,0,0),2)\n",
    "    cv2.line(first_train_img,tuple(fourangle[1].tolist()),tuple(fourangle[2].tolist()),(0,255,0),2)\n",
    "    cv2.line(first_train_img,tuple(fourangle[2].tolist()),tuple(fourangle[3].tolist()),(0,0,255),2)\n",
    "    cv2.line(first_train_img,tuple(fourangle[3].tolist()),tuple(fourangle[0].tolist()),(0,255,0),2)\n",
    "    plt.imshow(first_train_img.astype(np.uint8))\n",
    "    plt.axis('off')\n",
    "    count+=1\n",
    "\n",
    "plt.show()"
   ]
  },
  {
   "cell_type": "code",
   "execution_count": null,
   "metadata": {
    "collapsed": false
   },
   "outputs": [],
   "source": [
    "# add retangle to image and write it out\n",
    "for i in xrange(720):\n",
    "    first_train_img = X_test_temp[i].copy().astype(np.uint8)\n",
    "    first_train_img = cv2.cvtColor(first_train_img,cv2.COLOR_BGR2RGB)\n",
    "    #first_train_img = cv2.cvtColor(first_train_img,cv2.COLOR_GRAY2RGB)\n",
    "    fourangle=getboundary(theta[i])\n",
    "    fourangle=fourangle.astype(int)\n",
    "    #cv2.rectangle(first_train_img, tuple(twoangle[0].tolist()), tuple(twoangle[1].tolist()), (0, 1,0),2)\n",
    "    cv2.line(first_train_img,tuple(fourangle[0].tolist()),tuple(fourangle[1].tolist()),(255,0,0),2)\n",
    "    cv2.line(first_train_img,tuple(fourangle[1].tolist()),tuple(fourangle[2].tolist()),(0,255,0),2)\n",
    "    cv2.line(first_train_img,tuple(fourangle[2].tolist()),tuple(fourangle[3].tolist()),(0,0,255),2)\n",
    "    cv2.line(first_train_img,tuple(fourangle[3].tolist()),tuple(fourangle[0].tolist()),(0,255,0),2)\n",
    "    cv2.imwrite('face_rotation/'+str(i).zfill(4)+'.jpg',first_train_img)"
   ]
  },
  {
   "cell_type": "markdown",
   "metadata": {
    "collapsed": false
   },
   "source": [
    "# [sec2-0] give up with pretrained vgg Acc~0.97\n",
    " let's deal a naive conv-relu *2 , fc softmax network"
   ]
  },
  {
   "cell_type": "code",
   "execution_count": 1,
   "metadata": {
    "collapsed": true
   },
   "outputs": [],
   "source": [
    "import tensorflow as tf\n",
    "from spatial_transformer import transformer\n",
    "import numpy as np\n",
    "frames=np.load(\"rotated_x.npy\")\n",
    "y_train=np.load(\"rotated_y.npy\").astype(int)\n"
   ]
  },
  {
   "cell_type": "code",
   "execution_count": 2,
   "metadata": {
    "collapsed": false
   },
   "outputs": [
    {
     "name": "stdout",
     "output_type": "stream",
     "text": [
      "there are 32126 images in training set\n",
      "there are 8032 images in testing set\n"
     ]
    }
   ],
   "source": [
    "arr = np.arange(len(frames))\n",
    "np.random.shuffle(arr)\n",
    "x_train=frames[arr]\n",
    "y_train=y_train[arr]\n",
    "data={\n",
    "  'X_train': x_train[:int(len(x_train)*0.8)],\n",
    "  'y_train': y_train[:int(len(x_train)*0.8)],\n",
    "  'X_val': x_train[int(len(x_train)*0.8):],\n",
    "  'y_val': y_train[int(len(x_train)*0.8):],\n",
    "  'X_val_frame' : frames[int(len(x_train)*0.8):],\n",
    "}\n",
    "print \"there are \"+ str(data['X_train'].shape[0]) + \" images in training set\"\n",
    "print \"there are \"+ str(data['X_val'].shape[0]) + \" images in testing set\""
   ]
  },
  {
   "cell_type": "code",
   "execution_count": 3,
   "metadata": {
    "collapsed": true
   },
   "outputs": [],
   "source": [
    "def weight_variable(shape):\n",
    "  initial = tf.truncated_normal(shape, stddev=0.0001)\n",
    "  return tf.Variable(initial)\n",
    "\n",
    "def bias_variable(shape):\n",
    "  initial = tf.constant(0.01, shape=shape)\n",
    "  return tf.Variable(initial)\n"
   ]
  },
  {
   "cell_type": "code",
   "execution_count": 4,
   "metadata": {
    "collapsed": true
   },
   "outputs": [],
   "source": [
    "def create_stn():\n",
    "    # %% We can add dropout for regularizing and to reduce overfitting like so:\n",
    "    keep_prob = tf.placeholder(tf.float32,name='KP')\n",
    "    regular_lambda = tf.placeholder(tf.float32,name='RL')\n",
    "    learning_rate = tf.placeholder(tf.float32,name='LR')\n",
    "\n",
    "    # %% Placeholders for 40x40 resolution\n",
    "    x_tensor = tf.placeholder(tf.float32, [None, 32,32,3])\n",
    "\n",
    "    filter_size = 3\n",
    "    n_filters_1 = 32\n",
    "    W_conv1_loc1 = weight_variable([filter_size, filter_size, 3, n_filters_1])\n",
    "    b_conv1_loc1 = bias_variable([n_filters_1])\n",
    "\n",
    "    #STN-conv_1-relu\n",
    "    h_conv1_loc1 = tf.nn.relu(\n",
    "        tf.nn.conv2d(input=x_tensor,\n",
    "                     filter=W_conv1_loc1,\n",
    "                     strides=[1, 2, 2, 1],\n",
    "                     padding='SAME') +\n",
    "        b_conv1_loc1)\n",
    "    \n",
    "    h_conv1_loc1_drop = tf.nn.dropout(h_conv1_loc1, keep_prob)\n",
    "    h_conv1_loc1_flat = tf.reshape(h_conv1_loc1_drop, [-1, 16* 16* n_filters_1])\n",
    "\n",
    "    \n",
    "    #STN-FC-relu\n",
    "    n_fc_local=256\n",
    "    W_fc_loc1 = weight_variable([ 16* 16* n_filters_1, n_fc_local])\n",
    "    b_fc_loc1 = bias_variable([n_fc_local])\n",
    "    h_fc_loc1 = tf.nn.relu(tf.matmul(h_conv1_loc1_flat, W_fc_loc1) + b_fc_loc1)\n",
    "\n",
    "\n",
    "    #STN-FC-tanh\n",
    "    initial = np.array([[1., 0, 0], [0, 1., 0]])\n",
    "    initial = initial.astype('float32')\n",
    "    initial = initial.flatten()\n",
    "    b_fc_loc2 = tf.Variable(initial_value=initial, name='b_fc_loc2')\n",
    "    W_fc_loc2 = weight_variable([n_fc_local, 6])\n",
    "\n",
    "    h_fc_loc2 = tf.nn.tanh(tf.matmul(h_fc_loc1, W_fc_loc2) + b_fc_loc2)\n",
    "\n",
    "\n",
    "    # %% We'll create a spatial transformer module to identify discriminative\n",
    "    # %% patches\n",
    "    out_size = (32, 32)\n",
    "    h_trans = transformer(x_tensor, h_fc_loc2, out_size)\n",
    "\n",
    "    regu_stn=tf.nn.l2_loss(b_fc_loc2)+tf.nn.l2_loss(W_fc_loc2)+\\\n",
    "            tf.nn.l2_loss(W_fc_loc1)+tf.nn.l2_loss(b_fc_loc1)+\\\n",
    "            tf.nn.l2_loss(W_conv1_loc1)+tf.nn.l2_loss(b_conv1_loc1)\n",
    "    return [x_tensor,h_trans,regu_stn,h_fc_loc2,keep_prob,regular_lambda,learning_rate]\n"
   ]
  },
  {
   "cell_type": "code",
   "execution_count": 5,
   "metadata": {
    "collapsed": false
   },
   "outputs": [],
   "source": [
    "x,h_trans,regu_stn,h_fc_loc2,keep_prob,regular_lambda,learning_rate = create_stn()\n"
   ]
  },
  {
   "cell_type": "code",
   "execution_count": 6,
   "metadata": {
    "collapsed": false
   },
   "outputs": [],
   "source": [
    "\n",
    "# %% We can add dropout for regularizing and to reduce overfitting like so:\n",
    "regular_lambda = tf.placeholder(tf.float32)\n",
    "learning_rate = tf.placeholder(tf.float32)\n",
    "\n",
    "\n",
    "# %% Graph representation of our network\n",
    "\n",
    "# %% Placeholders for 40x40 resolution\n",
    "y_tf = tf.placeholder(tf.int32, shape=[None,],name='ground_truth')\n",
    "y_tf_2=tf.one_hot(y_tf,5)\n",
    "\n",
    "#reshape X\n",
    "x_tensor = h_trans\n",
    "\n",
    "\n",
    "#conv_1\n",
    "filter_size = 3\n",
    "n_filters_1 = 16\n",
    "W_conv1 = weight_variable([filter_size, filter_size, 3, n_filters_1])\n",
    "b_conv1 = bias_variable([n_filters_1])\n",
    "h_conv1 = tf.nn.relu(\n",
    "    tf.nn.conv2d(input=x_tensor,\n",
    "                 filter=W_conv1,\n",
    "                 strides=[1, 2, 2, 1],\n",
    "                 padding='SAME') +\n",
    "    b_conv1)\n",
    "h_conv1_flat = tf.reshape(h_conv1, [-1, 16 * 16* n_filters_1])\n",
    "\n",
    "\n",
    "\n",
    "\n",
    "#FC\n",
    "n_fc = 512\n",
    "W_fc1 = weight_variable([16 * 16 * n_filters_1, n_fc])\n",
    "b_fc1 = bias_variable([n_fc])\n",
    "h_fc1 = tf.nn.relu(tf.matmul(h_conv1_flat, W_fc1) + b_fc1)\n",
    "h_fc1_drop = tf.nn.dropout(h_fc1, keep_prob)\n",
    "\n",
    "#softmax\n",
    "W_fc2 = weight_variable([n_fc, 5])\n",
    "b_fc2 = bias_variable([5])\n",
    "y_logits = tf.matmul(h_fc1_drop, W_fc2) + b_fc2\n",
    "\n",
    "# regu_cnn = tf.nn.l2_loss(W_fc1)+tf.nn.l2_loss(W_fc2)+tf.nn.l2_loss(b_fc1)+tf.nn.l2_loss(b_fc2)+\\\n",
    "#        tf.nn.l2_loss(W_conv2)+tf.nn.l2_loss(W_conv1)+tf.nn.l2_loss(b_conv2)+tf.nn.l2_loss(b_conv1)\n",
    "    \n",
    "regu_cnn = tf.nn.l2_loss(W_fc1)+tf.nn.l2_loss(W_fc2)+tf.nn.l2_loss(b_fc1)+tf.nn.l2_loss(b_fc2)+\\\n",
    "    tf.nn.l2_loss(W_conv1)+tf.nn.l2_loss(b_conv1)\n",
    "regu=regu_cnn+regu_stn\n",
    "\n",
    "\n",
    "# global_step = tf.Variable(0, trainable=False)\n",
    "# learning_rate_decay = tf.train.exponential_decay(learning_rate, global_step,\n",
    "#                                            1000, 0.96, staircase=True)\n",
    "\n",
    "# %% Define loss/eval/training functions\n",
    "cross_entropy = tf.reduce_mean(\n",
    "    tf.nn.softmax_cross_entropy_with_logits(logits=y_logits, labels=y_tf_2))\n",
    "\n",
    "with tf.name_scope('loss'):\n",
    "    #carefully deal overfitting\n",
    "    loss=cross_entropy+regular_lambda*regu\n",
    "with tf.name_scope('slover'):\n",
    "    global_step = tf.Variable(0, trainable=False)\n",
    "    learning_rate_decay = tf.train.exponential_decay(learning_rate, global_step,\n",
    "                                               3000, 0.96, staircase=True)\n",
    "    opt = tf.train.AdamOptimizer(learning_rate=learning_rate_decay)\n",
    "    train_step = opt.minimize(loss)\n",
    "\n",
    "\n",
    "\n",
    "#grads = opt.compute_gradients(cross_entropy, [b_fc_loc2])\n",
    "\n",
    "# %% Monitor accuracy\n",
    "tf_predictions=tf.argmax(y_logits, 1)\n",
    "ground_truth=tf.argmax(y_tf_2, 1)\n",
    "correct_prediction = tf.equal(tf.argmax(y_logits, 1), ground_truth)\n",
    "accuracy = tf.reduce_mean(tf.cast(correct_prediction, 'float'))\n",
    "\n",
    "#MHaccuracy\n",
    "idxsMH = tf.where(tf.equal(ground_truth, 0))\n",
    "correct_predictionMH = tf.equal(tf.argmax(tf.gather(y_logits,idxsMH),2), tf.argmax(tf.gather(y_tf_2,idxsMH),2))\n",
    "accuracyMH = tf.reduce_mean(tf.cast(correct_predictionMH, tf.float32))\n",
    "#NMaccuracy\n",
    "idxsNM = tf.where(tf.equal(ground_truth, 1))\n",
    "correct_predictionNM = tf.equal(tf.argmax(tf.gather(y_logits,idxsNM),2), tf.argmax(tf.gather(y_tf_2,idxsNM),2))\n",
    "accuracyNM = tf.reduce_mean(tf.cast(correct_predictionNM, tf.float32))\n",
    "#NHaccuracy\n",
    "idxsNH = tf.where(tf.equal(ground_truth, 2))\n",
    "correct_predictionNH = tf.equal(tf.argmax(tf.gather(y_logits,idxsNH),2), tf.argmax(tf.gather(y_tf_2,idxsNH),2))\n",
    "accuracyNH = tf.reduce_mean(tf.cast(correct_predictionNH, tf.float32))\n",
    "#MEaccuracy\n",
    "idxsME = tf.where(tf.equal(ground_truth, 3))\n",
    "correct_predictionME = tf.equal(tf.argmax(tf.gather(y_logits,idxsME),2), tf.argmax(tf.gather(y_tf_2,idxsME),2))\n",
    "accuracyME = tf.reduce_mean(tf.cast(correct_predictionME, tf.float32))\n",
    "#Soaccuracy\n",
    "idxsSO = tf.where(tf.equal(ground_truth, 4))\n",
    "correct_predictionSO = tf.equal(tf.argmax(tf.gather(y_logits,idxsSO),2), tf.argmax(tf.gather(y_tf_2,idxsSO),2))\n",
    "accuracySO = tf.reduce_mean(tf.cast(correct_predictionSO, tf.float32))\n",
    "\n",
    "tf.summary.scalar('accuracy', accuracy)\n",
    "tf.summary.scalar('accuracyMH', accuracyMH)\n",
    "tf.summary.scalar('accuracyNM', accuracyNM)\n",
    "tf.summary.scalar('accuracyNH', accuracyNH)\n",
    "tf.summary.scalar('accuracyME', accuracyME)\n",
    "tf.summary.scalar('accuracySO', accuracySO)\n",
    "#this variable means records all records\n",
    "merged = tf.summary.merge_all()"
   ]
  },
  {
   "cell_type": "code",
   "execution_count": 7,
   "metadata": {
    "collapsed": false
   },
   "outputs": [],
   "source": [
    "\n",
    "# %% We now create a new session to actually perform the initialization the\n",
    "# variables:\n",
    "sess = tf.Session()\n",
    "sess.run(tf.global_variables_initializer())\n"
   ]
  },
  {
   "cell_type": "code",
   "execution_count": 8,
   "metadata": {
    "collapsed": true
   },
   "outputs": [],
   "source": [
    "train_writer = tf.summary.FileWriter('/tmp/loser2/train',sess.graph)\n",
    "test_writer = tf.summary.FileWriter('/tmp/loser2/test')\n",
    "count=0"
   ]
  },
  {
   "cell_type": "code",
   "execution_count": null,
   "metadata": {
    "collapsed": false,
    "scrolled": true
   },
   "outputs": [
    {
     "name": "stdout",
     "output_type": "stream",
     "text": [
      "training acc: 0.075 testing acc :0.115662 /training Loss: 1.60944 testing loss :1.60944\n",
      "training acc: 0.4 testing acc :0.531126 /training Loss: 1.39984 testing loss :1.22118\n",
      "training acc: 0.6 testing acc :0.573705 /training Loss: 1.10348 testing loss :1.09836\n",
      "training acc: 0.55 testing acc :0.610682 /training Loss: 1.14379 testing loss :1.05502\n",
      "training acc: 0.625 testing acc :0.635956 /training Loss: 0.978638 testing loss :0.961971\n",
      "training acc: 0.65 testing acc :0.653636 /training Loss: 0.972747 testing loss :0.979449\n",
      "training acc: 0.75 testing acc :0.691484 /training Loss: 0.764535 testing loss :0.81898\n",
      "training acc: 0.7 testing acc :0.686131 /training Loss: 0.810135 testing loss :0.881518\n",
      "training acc: 0.775 testing acc :0.731325 /training Loss: 0.638629 testing loss :0.729551\n",
      "training acc: 0.775 testing acc :0.729333 /training Loss: 0.700292 testing loss :0.764934\n",
      "training acc: 0.775 testing acc :0.755478 /training Loss: 0.612979 testing loss :0.678318\n",
      "training acc: 0.775 testing acc :0.748506 /training Loss: 0.638215 testing loss :0.69569\n",
      "training acc: 0.775 testing acc :0.770667 /training Loss: 0.506146 testing loss :0.62557\n",
      "training acc: 0.825 testing acc :0.76743 /training Loss: 0.557993 testing loss :0.641937\n",
      "training acc: 0.825 testing acc :0.792704 /training Loss: 0.456814 testing loss :0.578062\n",
      "training acc: 0.825 testing acc :0.776145 /training Loss: 0.560145 testing loss :0.628091\n",
      "training acc: 0.825 testing acc :0.810508 /training Loss: 0.4099 testing loss :0.53017\n",
      "training acc: 0.8 testing acc :0.802042 /training Loss: 0.480919 testing loss :0.554871\n",
      "training acc: 0.825 testing acc :0.807893 /training Loss: 0.33979 testing loss :0.526604\n",
      "training acc: 0.85 testing acc :0.806897 /training Loss: 0.383503 testing loss :0.543303\n",
      "training acc: 0.875 testing acc :0.824701 /training Loss: 0.268112 testing loss :0.475291\n",
      "training acc: 0.9 testing acc :0.821713 /training Loss: 0.305944 testing loss :0.491322\n",
      "training acc: 0.95 testing acc :0.833541 /training Loss: 0.22959 testing loss :0.465895\n",
      "training acc: 0.875 testing acc :0.834412 /training Loss: 0.308531 testing loss :0.451433\n",
      "training acc: 0.9 testing acc :0.839144 /training Loss: 0.201492 testing loss :0.438303\n",
      "training acc: 0.9 testing acc :0.839517 /training Loss: 0.225599 testing loss :0.458045\n",
      "training acc: 0.925 testing acc :0.85757 /training Loss: 0.199586 testing loss :0.412695\n"
     ]
    }
   ],
   "source": [
    "# %% We'll now train in minibatches and report accuracy, loss:\n",
    "iter_per_epoch = 800\n",
    "n_epochs = 100\n",
    "train_size = 32126  \n",
    "regular_lambda_=1e-5\n",
    "indices = np.linspace(0, train_size-1, iter_per_epoch)\n",
    "indices = indices.astype('int')\n",
    "\n",
    "for epoch_i in range(n_epochs):\n",
    "    for iter_i in range(iter_per_epoch - 1):\n",
    "        batch_xs = data['X_train'][indices[iter_i]:indices[iter_i+1]]\n",
    "        batch_ys = data['y_train'][indices[iter_i]:indices[iter_i+1]]\n",
    "        \n",
    "        if iter_i % 500 == 0:\n",
    "            summary,loss,accuracy_ = sess.run([merged,cross_entropy,accuracy],\n",
    "                            feed_dict={\n",
    "                                x: batch_xs,\n",
    "                                y_tf: batch_ys,\n",
    "                                regular_lambda: regular_lambda_,\n",
    "                                keep_prob:1\n",
    "                            })\n",
    "\n",
    "            train_writer.add_summary(summary, count)\n",
    "            \n",
    "            vali_xs = data['X_val']\n",
    "            vali_ys = data['y_val']\n",
    "            summary,loss_val,accuracy_val = sess.run([merged,cross_entropy,accuracy],\n",
    "                            feed_dict={\n",
    "                                x: vali_xs,\n",
    "                                y_tf: vali_ys,\n",
    "                                regular_lambda: regular_lambda_,\n",
    "                                keep_prob:1\n",
    "                            })\n",
    "            test_writer.add_summary(summary, count)\n",
    "\n",
    "            print('training acc: ' + str(accuracy_) +' testing acc :' +str(accuracy_val)+ \n",
    "                  ' /training Loss: ' + str(loss) +' testing loss :' +str(loss_val))\n",
    "            count+=1\n",
    "\n",
    "\n",
    "\n",
    "        sess.run(train_step, feed_dict={\n",
    "            x: batch_xs, y_tf: batch_ys, learning_rate:1e-4, keep_prob:0.6, regular_lambda:regular_lambda_})\n",
    "        \n",
    "\n"
   ]
  },
  {
   "cell_type": "code",
   "execution_count": 13,
   "metadata": {
    "collapsed": true
   },
   "outputs": [],
   "source": [
    "import matplotlib.pyplot as plt\n",
    "import cv2\n",
    "%matplotlib inline\n",
    "def getrotation_img(image,angel):\n",
    "    rows,cols,c = image.shape\n",
    "    M = cv2.getRotationMatrix2D((cols/2,rows/2),angel,1)\n",
    "    dst = cv2.warpAffine(image,M,(cols,rows))\n",
    "    return dst"
   ]
  },
  {
   "cell_type": "code",
   "execution_count": 73,
   "metadata": {
    "collapsed": false,
    "scrolled": true
   },
   "outputs": [
    {
     "data": {
      "text/plain": [
       "(array([   2,    3,    6,   11,   14,   25,   42,   50,   55,   59,   60,\n",
       "          62,   86,   88,   89,  107,  114,  120,  123,  126,  134,  138,\n",
       "         167,  168,  195,  201,  205,  207,  227,  234,  245,  253,  271,\n",
       "         272,  304,  317,  327,  336,  362,  370,  372,  380,  388,  399,\n",
       "         405,  416,  418,  426,  427,  433,  444,  475,  498,  505,  514,\n",
       "         521,  531,  537,  549,  552,  568,  569,  577,  579,  591,  598,\n",
       "         608,  635,  653,  658,  668,  678,  692,  703,  709,  712,  715,\n",
       "         723,  739,  741,  745,  748,  749,  753,  754,  767,  771,  784,\n",
       "         787,  794,  798,  809,  818,  819,  824,  826,  830,  833,  841,\n",
       "         846,  868,  884,  891,  894,  915,  916,  931,  936,  945,  950,\n",
       "         951,  953,  954,  957,  977,  982,  988,  991, 1001, 1014, 1015,\n",
       "        1017, 1021, 1035, 1039, 1059, 1068, 1072, 1080, 1087, 1097, 1103,\n",
       "        1116, 1124, 1132, 1143, 1172, 1174, 1180, 1187, 1192, 1194, 1204,\n",
       "        1220, 1233, 1243, 1259, 1293, 1297, 1304, 1308, 1326, 1327, 1346,\n",
       "        1349, 1364, 1384, 1392, 1395, 1397, 1401, 1415, 1416, 1423, 1431,\n",
       "        1441, 1451, 1458, 1463, 1465, 1467, 1468, 1485, 1490, 1496, 1498,\n",
       "        1501, 1510, 1514, 1516, 1522, 1538, 1587, 1589, 1594, 1600, 1609,\n",
       "        1614, 1619, 1620, 1631, 1642, 1659, 1663, 1666, 1667, 1677, 1690,\n",
       "        1698, 1699, 1700, 1706, 1709, 1727, 1730, 1733, 1734, 1749, 1750,\n",
       "        1751, 1762, 1770, 1780, 1784, 1793, 1804, 1806, 1807, 1816, 1817,\n",
       "        1829, 1833, 1861, 1870, 1873, 1874, 1892, 1896, 1901, 1904, 1905,\n",
       "        1906, 1912, 1914, 1918, 1931, 1949, 1950, 1952, 1965, 1989, 1997,\n",
       "        2000, 2011, 2017, 2021, 2034, 2036, 2046, 2062, 2077, 2086, 2096,\n",
       "        2097, 2104, 2111, 2112, 2113, 2128, 2129, 2132, 2148, 2149, 2156,\n",
       "        2169, 2172, 2176, 2182, 2185, 2192, 2202, 2206, 2214, 2216, 2219,\n",
       "        2220, 2244, 2258, 2260, 2276, 2277, 2291, 2296, 2311, 2320, 2328,\n",
       "        2334, 2335, 2339, 2348, 2355, 2373, 2378, 2392, 2394, 2398, 2417,\n",
       "        2442, 2445, 2456, 2465, 2468, 2471, 2498, 2507, 2525, 2526, 2531,\n",
       "        2536, 2547, 2548, 2555, 2556, 2577, 2578, 2585, 2601, 2610, 2614,\n",
       "        2616, 2621, 2628, 2636, 2637, 2644, 2646, 2653, 2666, 2678, 2686,\n",
       "        2707, 2725, 2731, 2733, 2735, 2736, 2738, 2741, 2762, 2766, 2770,\n",
       "        2783, 2796, 2809, 2821, 2822, 2824, 2828, 2849, 2869, 2871, 2892,\n",
       "        2893, 2900, 2909, 2918, 2919, 2929, 2942, 2943, 2952, 2955, 2957,\n",
       "        2964, 2972, 2997, 3000, 3026, 3027, 3043, 3055, 3060, 3062, 3073,\n",
       "        3081, 3088, 3093, 3101, 3104, 3110, 3118, 3122, 3131, 3142, 3149,\n",
       "        3150, 3163, 3173, 3174, 3176, 3178, 3199, 3201, 3203, 3210, 3212,\n",
       "        3217, 3231, 3232, 3235, 3236, 3237, 3240, 3243, 3268, 3274, 3279,\n",
       "        3282, 3293, 3299, 3305, 3327, 3328, 3345, 3348, 3355, 3357, 3360,\n",
       "        3361, 3379, 3400, 3406, 3411, 3425, 3437, 3442, 3458, 3460, 3465,\n",
       "        3482, 3487, 3490, 3494, 3505, 3508, 3510, 3522, 3532, 3542, 3554,\n",
       "        3560, 3562, 3563, 3565, 3568, 3570, 3575, 3581, 3621, 3627, 3628,\n",
       "        3649, 3663, 3665, 3666, 3683, 3689, 3717, 3720, 3721, 3742, 3744,\n",
       "        3765, 3780, 3787, 3807, 3824, 3837, 3838, 3843, 3872, 3877, 3879,\n",
       "        3883, 3891, 3903, 3919, 3923, 3932, 3933, 3938, 3941, 3945, 3949,\n",
       "        3952, 3958, 3965, 3975, 3984, 3991, 3994, 4016, 4025, 4027, 4028,\n",
       "        4034, 4041, 4042, 4045, 4046, 4048, 4054, 4059, 4068, 4076, 4089,\n",
       "        4095, 4104, 4116, 4129, 4130, 4139, 4142, 4149, 4150, 4155, 4170,\n",
       "        4177, 4195, 4201, 4202, 4207, 4213, 4226, 4227, 4233, 4252, 4257,\n",
       "        4264, 4317, 4318, 4322, 4330, 4341, 4344, 4356, 4358, 4363, 4376,\n",
       "        4380, 4381, 4383, 4397, 4416, 4417, 4421, 4428, 4436, 4443, 4445,\n",
       "        4447, 4449, 4456, 4457, 4462, 4465, 4501, 4503, 4511, 4512, 4534,\n",
       "        4535, 4542, 4546, 4549, 4563, 4565, 4567, 4579, 4581, 4592, 4603,\n",
       "        4605, 4607, 4623, 4640, 4645, 4657, 4668, 4699, 4712, 4740, 4742,\n",
       "        4747, 4750, 4755, 4758, 4772, 4781, 4782, 4784, 4789, 4800, 4803,\n",
       "        4810, 4811, 4830, 4850, 4853, 4857, 4869, 4873, 4879, 4884, 4890,\n",
       "        4901, 4904, 4909, 4912, 4917, 4918, 4919, 4926, 4931, 4934, 4935,\n",
       "        4936, 4947, 4957, 4959, 4963, 4972, 4978, 4980, 4982, 4983, 4995,\n",
       "        4997, 5004, 5009, 5026, 5027, 5040, 5055, 5062, 5080, 5096, 5099,\n",
       "        5104, 5119, 5131, 5139, 5141, 5143, 5144, 5153, 5158, 5164, 5187,\n",
       "        5190, 5194, 5203, 5208, 5211, 5215, 5240, 5254, 5264, 5273, 5274,\n",
       "        5299, 5300, 5317, 5337, 5351, 5353, 5354, 5371, 5373, 5379, 5380,\n",
       "        5381, 5401, 5402, 5403, 5411, 5415, 5444, 5455, 5459, 5461, 5463,\n",
       "        5469, 5477, 5480, 5481, 5490, 5498, 5499, 5505, 5519, 5532, 5544,\n",
       "        5580, 5585, 5608, 5609, 5633, 5637, 5640, 5646, 5649, 5664, 5678,\n",
       "        5684, 5687, 5697, 5708, 5712, 5718, 5723, 5738, 5750, 5766, 5767,\n",
       "        5769, 5774, 5790, 5804, 5822, 5829, 5832, 5836, 5844, 5880, 5887,\n",
       "        5888, 5893, 5906, 5910, 5917, 5924, 5930, 5936, 5940, 5941, 5943,\n",
       "        5953, 5989, 6000, 6001, 6005, 6012, 6017, 6023, 6035, 6040, 6043,\n",
       "        6047, 6061, 6064, 6072, 6074, 6090, 6097, 6111, 6135, 6138, 6144,\n",
       "        6149, 6163, 6174, 6178, 6181, 6183, 6189, 6190, 6191, 6195, 6198,\n",
       "        6233, 6238, 6254, 6255, 6264, 6272, 6278, 6308, 6309, 6315, 6326,\n",
       "        6333, 6334, 6339, 6341, 6348, 6380, 6389, 6394, 6417, 6422, 6471,\n",
       "        6478, 6480, 6505, 6506, 6509, 6510, 6513, 6515, 6524, 6529, 6535,\n",
       "        6550, 6572, 6575, 6597, 6611, 6615, 6626, 6650, 6656, 6658, 6662,\n",
       "        6667, 6668, 6685, 6690, 6692, 6694, 6700, 6713, 6714, 6719, 6723,\n",
       "        6743, 6751, 6753, 6755, 6764, 6783, 6785, 6798, 6806, 6808, 6817,\n",
       "        6838, 6842, 6855, 6866, 6875, 6879, 6886, 6896, 6914, 6924, 6935,\n",
       "        6937, 6946, 6956, 6962, 6965, 6973, 6975, 6976, 6992, 6999, 7006,\n",
       "        7048, 7060, 7078, 7085, 7094, 7095, 7107, 7111, 7123, 7124, 7133,\n",
       "        7143, 7148, 7150, 7161, 7177, 7186, 7194, 7200, 7208, 7212, 7225,\n",
       "        7232, 7253, 7271, 7280, 7297, 7298, 7299, 7301, 7319, 7324, 7327,\n",
       "        7332, 7334, 7335, 7337, 7347, 7353, 7357, 7369, 7372, 7374, 7390,\n",
       "        7394, 7397, 7403, 7408, 7409, 7416, 7425, 7432, 7436, 7454, 7456,\n",
       "        7458, 7459, 7470, 7474, 7475, 7476, 7478, 7479, 7488, 7492, 7497,\n",
       "        7511, 7515, 7521, 7523, 7535, 7539, 7546, 7552, 7553, 7555, 7558,\n",
       "        7561, 7572, 7579, 7583, 7607, 7610, 7613, 7619, 7625, 7646, 7648,\n",
       "        7655, 7676, 7683, 7688, 7690, 7696, 7709, 7715, 7720, 7738, 7745,\n",
       "        7746, 7749, 7751, 7754, 7756, 7772, 7773, 7801, 7819, 7820, 7821,\n",
       "        7842, 7851, 7858, 7869, 7875, 7883, 7889, 7893, 7899, 7915, 7921,\n",
       "        7932, 7939, 7942, 7952, 7955, 7958, 7964, 7967, 7975, 7987, 7988,\n",
       "        7996, 8007, 8009, 8030]),)"
      ]
     },
     "execution_count": 73,
     "metadata": {},
     "output_type": "execute_result"
    }
   ],
   "source": [
    "np.where(data['y_val']==0)"
   ]
  },
  {
   "cell_type": "code",
   "execution_count": 75,
   "metadata": {
    "collapsed": false
   },
   "outputs": [
    {
     "name": "stdout",
     "output_type": "stream",
     "text": [
      "0\n"
     ]
    },
    {
     "data": {
      "text/plain": [
       "<matplotlib.image.AxesImage at 0x7ff1fe9adbd0>"
      ]
     },
     "execution_count": 75,
     "metadata": {},
     "output_type": "execute_result"
    },
    {
     "data": {
      "image/png": "[encoded data removed]",
      "text/plain": [
       "<matplotlib.figure.Figure at 0x7ff1ff350410>"
      ]
     },
     "metadata": {},
     "output_type": "display_data"
    }
   ],
   "source": [
    "test_idx=11\n",
    "print data['y_val'][test_idx]\n",
    "det=getrotation_img(data['X_val'][test_idx, :],0)\n",
    "plt.imshow(det.astype(np.uint8))"
   ]
  },
  {
   "cell_type": "code",
   "execution_count": 76,
   "metadata": {
    "collapsed": false
   },
   "outputs": [
    {
     "name": "stdout",
     "output_type": "stream",
     "text": [
      "0\n"
     ]
    }
   ],
   "source": [
    "\n",
    "# create 720 rotation images\n",
    "print data['y_val'][test_idx]\n",
    "for i in xrange(720):\n",
    "    if i==0:\n",
    "        X_test_temp=np.reshape(getrotation_img(data['X_val'][test_idx, :],i), (-1, 32,32,3))\n",
    "    else:\n",
    "        temp=np.reshape(getrotation_img(data['X_val'][test_idx, :],i), (-1, 32,32,3))\n",
    "        X_test_temp=np.concatenate((X_test_temp, temp), axis=0)\n"
   ]
  },
  {
   "cell_type": "code",
   "execution_count": 77,
   "metadata": {
    "collapsed": false
   },
   "outputs": [
    {
     "data": {
      "text/plain": [
       "<tf.Tensor 'SpatialTransformer/_transform/Reshape_5:0' shape=(?, 32, 32, ?) dtype=float32>"
      ]
     },
     "execution_count": 77,
     "metadata": {},
     "output_type": "execute_result"
    }
   ],
   "source": [
    "#[n.name for n in tf.get_default_graph().as_graph_def().node]\n",
    "\n",
    "feature_net=tf.get_default_graph().get_tensor_by_name(\"SpatialTransformer/_transform/Reshape_5:0\")\n",
    "feature_net"
   ]
  },
  {
   "cell_type": "code",
   "execution_count": 78,
   "metadata": {
    "collapsed": false
   },
   "outputs": [],
   "source": [
    "predctions_whimh,theta,ROI = sess.run([tf_predictions,h_fc_loc2,feature_net], feed_dict={   \n",
    "        x:X_test_temp,\n",
    "        keep_prob:1,\n",
    "    })"
   ]
  },
  {
   "cell_type": "code",
   "execution_count": 82,
   "metadata": {
    "collapsed": false
   },
   "outputs": [
    {
     "data": {
      "text/plain": [
       "0.98333333333333328"
      ]
     },
     "execution_count": 82,
     "metadata": {},
     "output_type": "execute_result"
    }
   ],
   "source": [
    "sum(predctions_whimh==0)/720.0"
   ]
  },
  {
   "cell_type": "code",
   "execution_count": 83,
   "metadata": {
    "collapsed": false
   },
   "outputs": [
    {
     "data": {
      "text/plain": [
       "TensorShape([Dimension(None), Dimension(32), Dimension(32), Dimension(None)])"
      ]
     },
     "execution_count": 83,
     "metadata": {},
     "output_type": "execute_result"
    }
   ],
   "source": [
    "h_trans.shape"
   ]
  },
  {
   "cell_type": "code",
   "execution_count": 84,
   "metadata": {
    "collapsed": true
   },
   "outputs": [],
   "source": [
    "def getboundary(theta):\n",
    "    four_angles=np.array([[1,1,1],[1,-1,1],[-1,-1,1],[-1,1,1]])\n",
    "    theta=theta.reshape([2,3])\n",
    "    WH=np.array([32,32])\n",
    "    return (((theta.dot(four_angles.T)+1)/2).T*WH)"
   ]
  },
  {
   "cell_type": "code",
   "execution_count": 92,
   "metadata": {
    "collapsed": false
   },
   "outputs": [
    {
     "data": {
      "image/png": "[encoded data removed]",
      "text/plain": [
       "<matplotlib.figure.Figure at 0x7ff1feb1b050>"
      ]
     },
     "metadata": {},
     "output_type": "display_data"
    }
   ],
   "source": [
    "import cv2\n",
    "width = 18\n",
    "height = 18\n",
    "plt.figure(figsize=(width, height))\n",
    "count=1\n",
    "for i in [15,30,45,60,75,90,105,120,135,150,165,180,195,210,225,240,255,270,285,300,315,330,345,360]:\n",
    "    plt.subplot(24, 2, count)\n",
    "    first_train_img = X_test_temp[i].copy()\n",
    "    #first_train_img = cv2.cvtColor(first_train_img,cv2.COLOR_GRAY2RGB)\n",
    "    fourangle=getboundary(theta[i])\n",
    "    fourangle=fourangle.astype(int)\n",
    "    cv2.line(first_train_img,tuple(fourangle[0].tolist()),tuple(fourangle[1].tolist()),(255,0,0),2)\n",
    "    cv2.line(first_train_img,tuple(fourangle[1].tolist()),tuple(fourangle[2].tolist()),(0,255,0),2)\n",
    "    cv2.line(first_train_img,tuple(fourangle[2].tolist()),tuple(fourangle[3].tolist()),(0,0,255),2)\n",
    "    cv2.line(first_train_img,tuple(fourangle[3].tolist()),tuple(fourangle[0].tolist()),(0,255,0),2)\n",
    "    plt.imshow(first_train_img.astype(np.uint8))\n",
    "    plt.axis('off')\n",
    "    count+=1\n",
    "    plt.subplot(24, 2, count)\n",
    "    first_train_img = ROI[i].astype(np.uint8)\n",
    "    plt.imshow(first_train_img)\n",
    "    plt.axis('off')\n",
    "    count+=1\n",
    "    \n",
    "plt.show()"
   ]
  },
  {
   "cell_type": "code",
   "execution_count": 86,
   "metadata": {
    "collapsed": true
   },
   "outputs": [],
   "source": [
    "# add retangle to image and write it out\n",
    "for i in xrange(720):\n",
    "    first_train_img = X_test_temp[i].copy().astype(np.uint8)\n",
    "    first_train_img = cv2.cvtColor(first_train_img,cv2.COLOR_BGR2RGB)\n",
    "    #first_train_img = cv2.cvtColor(first_train_img,cv2.COLOR_GRAY2RGB)\n",
    "    fourangle=getboundary(theta[i])\n",
    "    fourangle=fourangle.astype(int)\n",
    "    #cv2.rectangle(first_train_img, tuple(twoangle[0].tolist()), tuple(twoangle[1].tolist()), (0, 1,0),2)\n",
    "    cv2.line(first_train_img,tuple(fourangle[0].tolist()),tuple(fourangle[1].tolist()),(255,0,0),2)\n",
    "    cv2.line(first_train_img,tuple(fourangle[1].tolist()),tuple(fourangle[2].tolist()),(0,255,0),2)\n",
    "    cv2.line(first_train_img,tuple(fourangle[2].tolist()),tuple(fourangle[3].tolist()),(0,0,255),2)\n",
    "    cv2.line(first_train_img,tuple(fourangle[3].tolist()),tuple(fourangle[0].tolist()),(0,255,0),2)\n",
    "    cv2.imwrite('face_rotation/'+str(i).zfill(4)+'.jpg',first_train_img)"
   ]
  },
  {
   "cell_type": "markdown",
   "metadata": {
    "collapsed": true
   },
   "source": [
    "# [sec2-1] finaelly let's play with cnn without stn"
   ]
  },
  {
   "cell_type": "code",
   "execution_count": 1,
   "metadata": {
    "collapsed": true
   },
   "outputs": [],
   "source": [
    "import tensorflow as tf\n",
    "from spatial_transformer import transformer\n",
    "import numpy as np\n",
    "frames=np.load(\"rotated_x.npy\")\n",
    "y_train=np.load(\"rotated_y.npy\").astype(int)\n"
   ]
  },
  {
   "cell_type": "code",
   "execution_count": 2,
   "metadata": {
    "collapsed": false
   },
   "outputs": [
    {
     "name": "stdout",
     "output_type": "stream",
     "text": [
      "there are 32126 images in training set\n",
      "there are 8032 images in testing set\n"
     ]
    }
   ],
   "source": [
    "arr = np.arange(len(frames))\n",
    "np.random.shuffle(arr)\n",
    "x_train=frames[arr]\n",
    "y_train=y_train[arr]\n",
    "data={\n",
    "  'X_train': x_train[:int(len(x_train)*0.8)],\n",
    "  'y_train': y_train[:int(len(x_train)*0.8)],\n",
    "  'X_val': x_train[int(len(x_train)*0.8):],\n",
    "  'y_val': y_train[int(len(x_train)*0.8):],\n",
    "  'X_val_frame' : frames[int(len(x_train)*0.8):],\n",
    "}\n",
    "print \"there are \"+ str(data['X_train'].shape[0]) + \" images in training set\"\n",
    "print \"there are \"+ str(data['X_val'].shape[0]) + \" images in testing set\""
   ]
  },
  {
   "cell_type": "code",
   "execution_count": 3,
   "metadata": {
    "collapsed": true
   },
   "outputs": [],
   "source": [
    "def weight_variable(shape):\n",
    "  initial = tf.truncated_normal(shape, stddev=0.0001)\n",
    "  return tf.Variable(initial)\n",
    "\n",
    "def bias_variable(shape):\n",
    "  initial = tf.constant(0.01, shape=shape)\n",
    "  return tf.Variable(initial)\n"
   ]
  },
  {
   "cell_type": "code",
   "execution_count": 4,
   "metadata": {
    "collapsed": false
   },
   "outputs": [],
   "source": [
    "# %% We can add dropout for regularizing and to reduce overfitting like so:\n",
    "regular_lambda = tf.placeholder(tf.float32)\n",
    "learning_rate = tf.placeholder(tf.float32)\n",
    "keep_prob = tf.placeholder(tf.float32)\n",
    "\n",
    "\n",
    "# %% Graph representation of our network\n",
    "\n",
    "# %% Placeholders for 40x40 resolution\n",
    "y_tf = tf.placeholder(tf.int32, shape=[None,],name='ground_truth')\n",
    "y_tf_2=tf.one_hot(y_tf,5)\n",
    "\n",
    "#reshape X\n",
    "x_tensor = tf.placeholder(tf.float32, [None, 32,32,3])\n",
    "\n",
    "\n",
    "#conv_1\n",
    "filter_size = 3\n",
    "n_filters_1 = 16\n",
    "W_conv1 = weight_variable([filter_size, filter_size, 3, n_filters_1])\n",
    "b_conv1 = bias_variable([n_filters_1])\n",
    "h_conv1 = tf.nn.relu(\n",
    "    tf.nn.conv2d(input=x_tensor,\n",
    "                 filter=W_conv1,\n",
    "                 strides=[1, 2, 2, 1],\n",
    "                 padding='SAME') +\n",
    "    b_conv1)\n",
    "\n",
    "flat_h_shape=int(h_conv1.shape[1]*h_conv1.shape[2]*h_conv1.shape[3])\n",
    "h_conv1_flat = tf.reshape(h_conv1, [-1, flat_h_shape])\n",
    "\n",
    "#FC\n",
    "n_fc = 512\n",
    "W_fc1 = weight_variable([flat_h_shape, n_fc])\n",
    "b_fc1 = bias_variable([n_fc])\n",
    "h_fc1 = tf.nn.relu(tf.matmul(h_conv1_flat, W_fc1) + b_fc1)\n",
    "h_fc1_drop = tf.nn.dropout(h_fc1, keep_prob)\n",
    "\n",
    "#softmax\n",
    "W_fc2 = weight_variable([n_fc, 5])\n",
    "b_fc2 = bias_variable([5])\n",
    "y_logits = tf.matmul(h_fc1_drop, W_fc2) + b_fc2\n",
    "\n",
    "# regu_cnn = tf.nn.l2_loss(W_fc1)+tf.nn.l2_loss(W_fc2)+tf.nn.l2_loss(b_fc1)+tf.nn.l2_loss(b_fc2)+\\\n",
    "#        tf.nn.l2_loss(W_conv2)+tf.nn.l2_loss(W_conv1)+tf.nn.l2_loss(b_conv2)+tf.nn.l2_loss(b_conv1)\n",
    "    \n",
    "regu_cnn = tf.nn.l2_loss(W_fc1)+tf.nn.l2_loss(W_fc2)+tf.nn.l2_loss(b_fc1)+tf.nn.l2_loss(b_fc2)+\\\n",
    "    tf.nn.l2_loss(W_conv1)+tf.nn.l2_loss(b_conv1)\n",
    "regu=regu_cnn\n",
    "\n",
    "\n",
    "global_step = tf.Variable(0, trainable=False)\n",
    "learning_rate_decay = tf.train.exponential_decay(learning_rate, global_step,\n",
    "                                           1000, 0.96, staircase=True)\n",
    "\n",
    "# %% Define loss/eval/training functions\n",
    "cross_entropy = tf.reduce_mean(\n",
    "    tf.nn.softmax_cross_entropy_with_logits(logits=y_logits, labels=y_tf_2))\n",
    "\n",
    "with tf.name_scope('loss'):\n",
    "    #carefully deal overfitting\n",
    "    loss=cross_entropy+regular_lambda*regu\n",
    "with tf.name_scope('slover'):\n",
    "    global_step = tf.Variable(0, trainable=False)\n",
    "    learning_rate_decay = tf.train.exponential_decay(learning_rate, global_step,\n",
    "                                               3000, 0.96, staircase=True)\n",
    "    opt = tf.train.AdamOptimizer(learning_rate=learning_rate_decay)\n",
    "    train_step = opt.minimize(loss)\n",
    "\n",
    "\n",
    "\n",
    "#grads = opt.compute_gradients(cross_entropy, [b_fc_loc2])\n",
    "\n",
    "# %% Monitor accuracy\n",
    "tf_predictions=tf.argmax(y_logits, 1)\n",
    "ground_truth=tf.argmax(y_tf_2, 1)\n",
    "correct_prediction = tf.equal(tf.argmax(y_logits, 1), ground_truth)\n",
    "accuracy = tf.reduce_mean(tf.cast(correct_prediction, 'float'))\n",
    "\n",
    "#MHaccuracy\n",
    "idxsMH = tf.where(tf.equal(ground_truth, 0))\n",
    "correct_predictionMH = tf.equal(tf.argmax(tf.gather(y_logits,idxsMH),2), tf.argmax(tf.gather(y_tf_2,idxsMH),2))\n",
    "accuracyMH = tf.reduce_mean(tf.cast(correct_predictionMH, tf.float32))\n",
    "#NMaccuracy\n",
    "idxsNM = tf.where(tf.equal(ground_truth, 1))\n",
    "correct_predictionNM = tf.equal(tf.argmax(tf.gather(y_logits,idxsNM),2), tf.argmax(tf.gather(y_tf_2,idxsNM),2))\n",
    "accuracyNM = tf.reduce_mean(tf.cast(correct_predictionNM, tf.float32))\n",
    "#NHaccuracy\n",
    "idxsNH = tf.where(tf.equal(ground_truth, 2))\n",
    "correct_predictionNH = tf.equal(tf.argmax(tf.gather(y_logits,idxsNH),2), tf.argmax(tf.gather(y_tf_2,idxsNH),2))\n",
    "accuracyNH = tf.reduce_mean(tf.cast(correct_predictionNH, tf.float32))\n",
    "#MEaccuracy\n",
    "idxsME = tf.where(tf.equal(ground_truth, 3))\n",
    "correct_predictionME = tf.equal(tf.argmax(tf.gather(y_logits,idxsME),2), tf.argmax(tf.gather(y_tf_2,idxsME),2))\n",
    "accuracyME = tf.reduce_mean(tf.cast(correct_predictionME, tf.float32))\n",
    "#Soaccuracy\n",
    "idxsSO = tf.where(tf.equal(ground_truth, 4))\n",
    "correct_predictionSO = tf.equal(tf.argmax(tf.gather(y_logits,idxsSO),2), tf.argmax(tf.gather(y_tf_2,idxsSO),2))\n",
    "accuracySO = tf.reduce_mean(tf.cast(correct_predictionSO, tf.float32))\n",
    "\n",
    "tf.summary.scalar('accuracy', accuracy)\n",
    "tf.summary.scalar('accuracyMH', accuracyMH)\n",
    "tf.summary.scalar('accuracyNM', accuracyNM)\n",
    "tf.summary.scalar('accuracyNH', accuracyNH)\n",
    "tf.summary.scalar('accuracyME', accuracyME)\n",
    "tf.summary.scalar('accuracySO', accuracySO)\n",
    "#this variable means records all records\n",
    "merged = tf.summary.merge_all()"
   ]
  },
  {
   "cell_type": "code",
   "execution_count": 5,
   "metadata": {
    "collapsed": false
   },
   "outputs": [],
   "source": [
    "\n",
    "# %% We now create a new session to actually perform the initialization the\n",
    "# variables:\n",
    "sess = tf.Session()\n",
    "sess.run(tf.global_variables_initializer())\n"
   ]
  },
  {
   "cell_type": "code",
   "execution_count": 6,
   "metadata": {
    "collapsed": true
   },
   "outputs": [],
   "source": [
    "train_writer = tf.summary.FileWriter('/tmp/cnn_face_nostn/train',sess.graph)\n",
    "test_writer = tf.summary.FileWriter('/tmp/cnn_face_nostn/test')\n",
    "count=0"
   ]
  },
  {
   "cell_type": "code",
   "execution_count": 7,
   "metadata": {
    "collapsed": false
   },
   "outputs": [
    {
     "name": "stdout",
     "output_type": "stream",
     "text": [
      "training acc: 0.0 testing acc :0.164592 /training Loss: 1.60944 testing loss :1.60944\n",
      "training acc: 0.625 testing acc :0.452689 /training Loss: 1.41589 testing loss :1.47447\n",
      "training acc: 0.5 testing acc :0.479457 /training Loss: 1.32679 testing loss :1.35783\n",
      "training acc: 0.75 testing acc :0.565862 /training Loss: 1.0171 testing loss :1.21089\n",
      "training acc: 0.625 testing acc :0.577565 /training Loss: 1.03679 testing loss :1.1161\n",
      "training acc: 0.75 testing acc :0.589143 /training Loss: 0.813615 testing loss :1.0782\n",
      "training acc: 0.875 testing acc :0.619273 /training Loss: 0.719202 testing loss :1.04641\n",
      "training acc: 1.0 testing acc :0.616907 /training Loss: 0.594977 testing loss :1.02378\n",
      "training acc: 0.625 testing acc :0.609437 /training Loss: 0.948195 testing loss :1.09266\n",
      "training acc: 0.875 testing acc :0.658367 /training Loss: 0.728099 testing loss :0.911116\n",
      "training acc: 0.75 testing acc :0.665588 /training Loss: 0.805494 testing loss :0.882019\n",
      "training acc: 0.75 testing acc :0.646414 /training Loss: 0.792669 testing loss :0.9573\n",
      "training acc: 0.5 testing acc :0.689368 /training Loss: 1.05999 testing loss :0.846943\n",
      "training acc: 0.75 testing acc :0.68003 /training Loss: 0.694864 testing loss :0.846762\n",
      "training acc: 0.875 testing acc :0.693725 /training Loss: 0.604299 testing loss :0.827635\n",
      "training acc: 0.875 testing acc :0.703312 /training Loss: 0.617513 testing loss :0.817676\n",
      "training acc: 0.75 testing acc :0.686006 /training Loss: 0.70698 testing loss :0.924417\n",
      "training acc: 0.875 testing acc :0.721116 /training Loss: 0.476725 testing loss :0.766485\n",
      "training acc: 0.625 testing acc :0.722236 /training Loss: 0.595659 testing loss :0.752606\n",
      "training acc: 0.625 testing acc :0.717007 /training Loss: 0.872987 testing loss :0.781385\n",
      "training acc: 0.875 testing acc :0.740413 /training Loss: 0.90317 testing loss :0.738789\n",
      "training acc: 0.625 testing acc :0.725349 /training Loss: 0.858827 testing loss :0.750336\n",
      "training acc: 1.0 testing acc :0.737176 /training Loss: 0.336332 testing loss :0.723746\n",
      "training acc: 0.875 testing acc :0.740662 /training Loss: 0.668639 testing loss :0.720334\n",
      "training acc: 0.875 testing acc :0.72012 /training Loss: 0.61132 testing loss :0.81452\n",
      "training acc: 1.0 testing acc :0.770045 /training Loss: 0.51599 testing loss :0.676826\n",
      "training acc: 0.75 testing acc :0.768177 /training Loss: 0.437385 testing loss :0.657666\n",
      "training acc: 0.5 testing acc :0.741409 /training Loss: 1.06937 testing loss :0.714768\n",
      "training acc: 0.875 testing acc :0.766559 /training Loss: 0.672118 testing loss :0.661429\n",
      "training acc: 0.625 testing acc :0.767181 /training Loss: 0.854636 testing loss :0.645813\n",
      "training acc: 1.0 testing acc :0.748008 /training Loss: 0.271579 testing loss :0.672413\n",
      "training acc: 0.875 testing acc :0.779507 /training Loss: 0.525675 testing loss :0.610798\n",
      "training acc: 0.875 testing acc :0.759836 /training Loss: 0.384252 testing loss :0.695725\n",
      "training acc: 1.0 testing acc :0.786106 /training Loss: 0.322101 testing loss :0.59685\n",
      "training acc: 0.875 testing acc :0.785608 /training Loss: 0.330821 testing loss :0.602389\n",
      "training acc: 0.75 testing acc :0.780005 /training Loss: 0.597098 testing loss :0.60118\n",
      "training acc: 0.875 testing acc :0.789716 /training Loss: 0.441655 testing loss :0.588098\n",
      "training acc: 0.625 testing acc :0.761454 /training Loss: 0.996472 testing loss :0.648747\n",
      "training acc: 1.0 testing acc :0.778137 /training Loss: 0.163038 testing loss :0.602598\n",
      "training acc: 0.75 testing acc :0.793825 /training Loss: 0.582555 testing loss :0.569534\n",
      "training acc: 1.0 testing acc :0.796937 /training Loss: 0.246391 testing loss :0.581463\n",
      "training acc: 0.875 testing acc :0.805154 /training Loss: 0.359812 testing loss :0.549195\n",
      "training acc: 0.875 testing acc :0.796564 /training Loss: 0.36928 testing loss :0.577932\n",
      "training acc: 0.75 testing acc :0.809512 /training Loss: 0.613606 testing loss :0.533767\n",
      "training acc: 0.875 testing acc :0.814367 /training Loss: 0.428743 testing loss :0.536373\n",
      "training acc: 0.75 testing acc :0.783865 /training Loss: 0.831442 testing loss :0.608235\n",
      "training acc: 1.0 testing acc :0.797684 /training Loss: 0.0996497 testing loss :0.560269\n",
      "training acc: 1.0 testing acc :0.823207 /training Loss: 0.248596 testing loss :0.505813\n",
      "training acc: 1.0 testing acc :0.820717 /training Loss: 0.206291 testing loss :0.511031\n",
      "training acc: 1.0 testing acc :0.810259 /training Loss: 0.301885 testing loss :0.527412\n",
      "training acc: 0.75 testing acc :0.810632 /training Loss: 0.354817 testing loss :0.526141\n",
      "training acc: 0.875 testing acc :0.801668 /training Loss: 0.472207 testing loss :0.547364\n",
      "training acc: 1.0 testing acc :0.836902 /training Loss: 0.199298 testing loss :0.473885\n"
     ]
    },
    {
     "ename": "KeyboardInterrupt",
     "evalue": "",
     "output_type": "error",
     "traceback": [
      "\u001b[0;31m---------------------------------------------------------------------------\u001b[0m",
      "\u001b[0;31mKeyboardInterrupt\u001b[0m                         Traceback (most recent call last)",
      "\u001b[0;32m<ipython-input-7-67f163b1219b>\u001b[0m in \u001b[0;36m<module>\u001b[0;34m()\u001b[0m\n\u001b[1;32m     41\u001b[0m \u001b[0;34m\u001b[0m\u001b[0m\n\u001b[1;32m     42\u001b[0m         sess.run(train_step, feed_dict={\n\u001b[0;32m---> 43\u001b[0;31m             x_tensor: batch_xs, y_tf: batch_ys, learning_rate:0.0001, keep_prob:0.5, regular_lambda:regular_lambda_})\n\u001b[0m\u001b[1;32m     44\u001b[0m \u001b[0;34m\u001b[0m\u001b[0m\n\u001b[1;32m     45\u001b[0m \u001b[0;34m\u001b[0m\u001b[0m\n",
      "\u001b[0;32m/home/stream/anaconda2/lib/python2.7/site-packages/tensorflow/python/client/session.pyc\u001b[0m in \u001b[0;36mrun\u001b[0;34m(self, fetches, feed_dict, options, run_metadata)\u001b[0m\n\u001b[1;32m    765\u001b[0m     \u001b[0;32mtry\u001b[0m\u001b[0;34m:\u001b[0m\u001b[0;34m\u001b[0m\u001b[0m\n\u001b[1;32m    766\u001b[0m       result = self._run(None, fetches, feed_dict, options_ptr,\n\u001b[0;32m--> 767\u001b[0;31m                          run_metadata_ptr)\n\u001b[0m\u001b[1;32m    768\u001b[0m       \u001b[0;32mif\u001b[0m \u001b[0mrun_metadata\u001b[0m\u001b[0;34m:\u001b[0m\u001b[0;34m\u001b[0m\u001b[0m\n\u001b[1;32m    769\u001b[0m         \u001b[0mproto_data\u001b[0m \u001b[0;34m=\u001b[0m \u001b[0mtf_session\u001b[0m\u001b[0;34m.\u001b[0m\u001b[0mTF_GetBuffer\u001b[0m\u001b[0;34m(\u001b[0m\u001b[0mrun_metadata_ptr\u001b[0m\u001b[0;34m)\u001b[0m\u001b[0;34m\u001b[0m\u001b[0m\n",
      "\u001b[0;32m/home/stream/anaconda2/lib/python2.7/site-packages/tensorflow/python/client/session.pyc\u001b[0m in \u001b[0;36m_run\u001b[0;34m(self, handle, fetches, feed_dict, options, run_metadata)\u001b[0m\n\u001b[1;32m    963\u001b[0m     \u001b[0;32mif\u001b[0m \u001b[0mfinal_fetches\u001b[0m \u001b[0;32mor\u001b[0m \u001b[0mfinal_targets\u001b[0m\u001b[0;34m:\u001b[0m\u001b[0;34m\u001b[0m\u001b[0m\n\u001b[1;32m    964\u001b[0m       results = self._do_run(handle, final_targets, final_fetches,\n\u001b[0;32m--> 965\u001b[0;31m                              feed_dict_string, options, run_metadata)\n\u001b[0m\u001b[1;32m    966\u001b[0m     \u001b[0;32melse\u001b[0m\u001b[0;34m:\u001b[0m\u001b[0;34m\u001b[0m\u001b[0m\n\u001b[1;32m    967\u001b[0m       \u001b[0mresults\u001b[0m \u001b[0;34m=\u001b[0m \u001b[0;34m[\u001b[0m\u001b[0;34m]\u001b[0m\u001b[0;34m\u001b[0m\u001b[0m\n",
      "\u001b[0;32m/home/stream/anaconda2/lib/python2.7/site-packages/tensorflow/python/client/session.pyc\u001b[0m in \u001b[0;36m_do_run\u001b[0;34m(self, handle, target_list, fetch_list, feed_dict, options, run_metadata)\u001b[0m\n\u001b[1;32m   1013\u001b[0m     \u001b[0;32mif\u001b[0m \u001b[0mhandle\u001b[0m \u001b[0;32mis\u001b[0m \u001b[0mNone\u001b[0m\u001b[0;34m:\u001b[0m\u001b[0;34m\u001b[0m\u001b[0m\n\u001b[1;32m   1014\u001b[0m       return self._do_call(_run_fn, self._session, feed_dict, fetch_list,\n\u001b[0;32m-> 1015\u001b[0;31m                            target_list, options, run_metadata)\n\u001b[0m\u001b[1;32m   1016\u001b[0m     \u001b[0;32melse\u001b[0m\u001b[0;34m:\u001b[0m\u001b[0;34m\u001b[0m\u001b[0m\n\u001b[1;32m   1017\u001b[0m       return self._do_call(_prun_fn, self._session, handle, feed_dict,\n",
      "\u001b[0;32m/home/stream/anaconda2/lib/python2.7/site-packages/tensorflow/python/client/session.pyc\u001b[0m in \u001b[0;36m_do_call\u001b[0;34m(self, fn, *args)\u001b[0m\n\u001b[1;32m   1020\u001b[0m   \u001b[0;32mdef\u001b[0m \u001b[0m_do_call\u001b[0m\u001b[0;34m(\u001b[0m\u001b[0mself\u001b[0m\u001b[0;34m,\u001b[0m \u001b[0mfn\u001b[0m\u001b[0;34m,\u001b[0m \u001b[0;34m*\u001b[0m\u001b[0margs\u001b[0m\u001b[0;34m)\u001b[0m\u001b[0;34m:\u001b[0m\u001b[0;34m\u001b[0m\u001b[0m\n\u001b[1;32m   1021\u001b[0m     \u001b[0;32mtry\u001b[0m\u001b[0;34m:\u001b[0m\u001b[0;34m\u001b[0m\u001b[0m\n\u001b[0;32m-> 1022\u001b[0;31m       \u001b[0;32mreturn\u001b[0m \u001b[0mfn\u001b[0m\u001b[0;34m(\u001b[0m\u001b[0;34m*\u001b[0m\u001b[0margs\u001b[0m\u001b[0;34m)\u001b[0m\u001b[0;34m\u001b[0m\u001b[0m\n\u001b[0m\u001b[1;32m   1023\u001b[0m     \u001b[0;32mexcept\u001b[0m \u001b[0merrors\u001b[0m\u001b[0;34m.\u001b[0m\u001b[0mOpError\u001b[0m \u001b[0;32mas\u001b[0m \u001b[0me\u001b[0m\u001b[0;34m:\u001b[0m\u001b[0;34m\u001b[0m\u001b[0m\n\u001b[1;32m   1024\u001b[0m       \u001b[0mmessage\u001b[0m \u001b[0;34m=\u001b[0m \u001b[0mcompat\u001b[0m\u001b[0;34m.\u001b[0m\u001b[0mas_text\u001b[0m\u001b[0;34m(\u001b[0m\u001b[0me\u001b[0m\u001b[0;34m.\u001b[0m\u001b[0mmessage\u001b[0m\u001b[0;34m)\u001b[0m\u001b[0;34m\u001b[0m\u001b[0m\n",
      "\u001b[0;32m/home/stream/anaconda2/lib/python2.7/site-packages/tensorflow/python/client/session.pyc\u001b[0m in \u001b[0;36m_run_fn\u001b[0;34m(session, feed_dict, fetch_list, target_list, options, run_metadata)\u001b[0m\n\u001b[1;32m   1002\u001b[0m         return tf_session.TF_Run(session, options,\n\u001b[1;32m   1003\u001b[0m                                  \u001b[0mfeed_dict\u001b[0m\u001b[0;34m,\u001b[0m \u001b[0mfetch_list\u001b[0m\u001b[0;34m,\u001b[0m \u001b[0mtarget_list\u001b[0m\u001b[0;34m,\u001b[0m\u001b[0;34m\u001b[0m\u001b[0m\n\u001b[0;32m-> 1004\u001b[0;31m                                  status, run_metadata)\n\u001b[0m\u001b[1;32m   1005\u001b[0m \u001b[0;34m\u001b[0m\u001b[0m\n\u001b[1;32m   1006\u001b[0m     \u001b[0;32mdef\u001b[0m \u001b[0m_prun_fn\u001b[0m\u001b[0;34m(\u001b[0m\u001b[0msession\u001b[0m\u001b[0;34m,\u001b[0m \u001b[0mhandle\u001b[0m\u001b[0;34m,\u001b[0m \u001b[0mfeed_dict\u001b[0m\u001b[0;34m,\u001b[0m \u001b[0mfetch_list\u001b[0m\u001b[0;34m)\u001b[0m\u001b[0;34m:\u001b[0m\u001b[0;34m\u001b[0m\u001b[0m\n",
      "\u001b[0;31mKeyboardInterrupt\u001b[0m: "
     ]
    }
   ],
   "source": [
    "# %% We'll now train in minibatches and report accuracy, loss:\n",
    "iter_per_epoch = 4000\n",
    "n_epochs = 100\n",
    "train_size = 32126  \n",
    "regular_lambda_=1e-4\n",
    "indices = np.linspace(0, train_size-1, iter_per_epoch)\n",
    "indices = indices.astype('int')\n",
    "\n",
    "for epoch_i in range(n_epochs):\n",
    "    for iter_i in range(iter_per_epoch - 1):\n",
    "        batch_xs = data['X_train'][indices[iter_i]:indices[iter_i+1]]\n",
    "        batch_ys = data['y_train'][indices[iter_i]:indices[iter_i+1]]\n",
    "        \n",
    "        if iter_i % 500 == 0:\n",
    "            summary,loss,accuracy_ = sess.run([merged,cross_entropy,accuracy],\n",
    "                            feed_dict={\n",
    "                                x_tensor: batch_xs,\n",
    "                                y_tf: batch_ys,\n",
    "                                regular_lambda: regular_lambda_,\n",
    "                                keep_prob:1\n",
    "                            })\n",
    "\n",
    "            train_writer.add_summary(summary, count)\n",
    "            \n",
    "            vali_xs = data['X_val']\n",
    "            vali_ys = data['y_val']\n",
    "            summary,loss_val,accuracy_val = sess.run([merged,cross_entropy,accuracy],\n",
    "                            feed_dict={\n",
    "                                x_tensor: vali_xs,\n",
    "                                y_tf: vali_ys,\n",
    "                                regular_lambda: regular_lambda_,\n",
    "                                keep_prob:1\n",
    "                            })\n",
    "            test_writer.add_summary(summary, count)\n",
    "\n",
    "            print('training acc: ' + str(accuracy_) +' testing acc :' +str(accuracy_val)+ \n",
    "                  ' /training Loss: ' + str(loss) +' testing loss :' +str(loss_val))\n",
    "            count+=1\n",
    "\n",
    "\n",
    "\n",
    "        sess.run(train_step, feed_dict={\n",
    "            x_tensor: batch_xs, y_tf: batch_ys, learning_rate:0.0001, keep_prob:0.5, regular_lambda:regular_lambda_})\n",
    "        \n",
    "\n"
   ]
  },
  {
   "cell_type": "code",
   "execution_count": null,
   "metadata": {
    "collapsed": true
   },
   "outputs": [],
   "source": []
  }
 ],
 "metadata": {
  "anaconda-cloud": {},
  "kernelspec": {
   "display_name": "Python [default]",
   "language": "python",
   "name": "python2"
  },
  "language_info": {
   "codemirror_mode": {
    "name": "ipython",
    "version": 2
   },
   "file_extension": ".py",
   "mimetype": "text/x-python",
   "name": "python",
   "nbconvert_exporter": "python",
   "pygments_lexer": "ipython2",
   "version": "2.7.12"
  }
 },
 "nbformat": 4,
 "nbformat_minor": 1
}
